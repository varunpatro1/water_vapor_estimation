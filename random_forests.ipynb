{
 "cells": [
  {
   "cell_type": "code",
   "execution_count": 1,
   "id": "7361a61d-b08a-463f-b395-50915f4a958c",
   "metadata": {},
   "outputs": [],
   "source": [
    "import matplotlib.pyplot as plt\n",
    "import numpy as np\n",
    "import pandas as pd"
   ]
  },
  {
   "cell_type": "code",
   "execution_count": 18,
   "id": "6c5b0daf-a71e-48a1-b98e-26267299d6f5",
   "metadata": {},
   "outputs": [],
   "source": [
    "refls = np.loadtxt('../EMIT-scenes/refl_1k.txt')\n",
    "wv = np.loadtxt('../EMIT-scenes/wv_1k.txt')"
   ]
  },
  {
   "cell_type": "code",
   "execution_count": 19,
   "id": "3896ad5e-4dc0-4971-a8cf-0aafee3c7f4f",
   "metadata": {},
   "outputs": [],
   "source": [
    "df = pd.DataFrame(refls)\n",
    "df['wv'] = wv"
   ]
  },
  {
   "cell_type": "code",
   "execution_count": 20,
   "id": "09dfc8ad-f3a8-4bad-9a72-99eb240ea802",
   "metadata": {},
   "outputs": [
    {
     "data": {
      "text/html": [
       "<div>\n",
       "<style scoped>\n",
       "    .dataframe tbody tr th:only-of-type {\n",
       "        vertical-align: middle;\n",
       "    }\n",
       "\n",
       "    .dataframe tbody tr th {\n",
       "        vertical-align: top;\n",
       "    }\n",
       "\n",
       "    .dataframe thead th {\n",
       "        text-align: right;\n",
       "    }\n",
       "</style>\n",
       "<table border=\"1\" class=\"dataframe\">\n",
       "  <thead>\n",
       "    <tr style=\"text-align: right;\">\n",
       "      <th></th>\n",
       "      <th>0</th>\n",
       "      <th>1</th>\n",
       "      <th>2</th>\n",
       "      <th>3</th>\n",
       "      <th>4</th>\n",
       "      <th>5</th>\n",
       "      <th>6</th>\n",
       "      <th>7</th>\n",
       "      <th>8</th>\n",
       "      <th>9</th>\n",
       "      <th>...</th>\n",
       "      <th>276</th>\n",
       "      <th>277</th>\n",
       "      <th>278</th>\n",
       "      <th>279</th>\n",
       "      <th>280</th>\n",
       "      <th>281</th>\n",
       "      <th>282</th>\n",
       "      <th>283</th>\n",
       "      <th>284</th>\n",
       "      <th>wv</th>\n",
       "    </tr>\n",
       "  </thead>\n",
       "  <tbody>\n",
       "    <tr>\n",
       "      <th>0</th>\n",
       "      <td>0.204741</td>\n",
       "      <td>0.197175</td>\n",
       "      <td>0.191094</td>\n",
       "      <td>0.183757</td>\n",
       "      <td>0.176931</td>\n",
       "      <td>0.170667</td>\n",
       "      <td>0.163259</td>\n",
       "      <td>0.156790</td>\n",
       "      <td>0.149403</td>\n",
       "      <td>0.143051</td>\n",
       "      <td>...</td>\n",
       "      <td>0.008419</td>\n",
       "      <td>0.007556</td>\n",
       "      <td>0.006943</td>\n",
       "      <td>0.007534</td>\n",
       "      <td>0.006608</td>\n",
       "      <td>0.005288</td>\n",
       "      <td>0.005188</td>\n",
       "      <td>0.003175</td>\n",
       "      <td>0.002177</td>\n",
       "      <td>0.730501</td>\n",
       "    </tr>\n",
       "    <tr>\n",
       "      <th>1</th>\n",
       "      <td>0.212543</td>\n",
       "      <td>0.205032</td>\n",
       "      <td>0.198230</td>\n",
       "      <td>0.191868</td>\n",
       "      <td>0.185520</td>\n",
       "      <td>0.181054</td>\n",
       "      <td>0.175790</td>\n",
       "      <td>0.169040</td>\n",
       "      <td>0.163979</td>\n",
       "      <td>0.158545</td>\n",
       "      <td>...</td>\n",
       "      <td>0.031703</td>\n",
       "      <td>0.030989</td>\n",
       "      <td>0.016408</td>\n",
       "      <td>0.021509</td>\n",
       "      <td>0.018800</td>\n",
       "      <td>0.011752</td>\n",
       "      <td>0.009750</td>\n",
       "      <td>0.006126</td>\n",
       "      <td>0.003743</td>\n",
       "      <td>3.903775</td>\n",
       "    </tr>\n",
       "    <tr>\n",
       "      <th>2</th>\n",
       "      <td>0.257069</td>\n",
       "      <td>0.247040</td>\n",
       "      <td>0.239279</td>\n",
       "      <td>0.235955</td>\n",
       "      <td>0.229980</td>\n",
       "      <td>0.225172</td>\n",
       "      <td>0.220556</td>\n",
       "      <td>0.213525</td>\n",
       "      <td>0.208892</td>\n",
       "      <td>0.204352</td>\n",
       "      <td>...</td>\n",
       "      <td>0.048935</td>\n",
       "      <td>0.047420</td>\n",
       "      <td>0.036086</td>\n",
       "      <td>0.035361</td>\n",
       "      <td>0.032842</td>\n",
       "      <td>0.028992</td>\n",
       "      <td>0.024074</td>\n",
       "      <td>0.016344</td>\n",
       "      <td>0.010617</td>\n",
       "      <td>2.440262</td>\n",
       "    </tr>\n",
       "    <tr>\n",
       "      <th>3</th>\n",
       "      <td>0.228153</td>\n",
       "      <td>0.222575</td>\n",
       "      <td>0.218219</td>\n",
       "      <td>0.216051</td>\n",
       "      <td>0.211564</td>\n",
       "      <td>0.209291</td>\n",
       "      <td>0.206787</td>\n",
       "      <td>0.202573</td>\n",
       "      <td>0.200234</td>\n",
       "      <td>0.198054</td>\n",
       "      <td>...</td>\n",
       "      <td>0.019022</td>\n",
       "      <td>0.018087</td>\n",
       "      <td>0.010125</td>\n",
       "      <td>0.011289</td>\n",
       "      <td>0.010260</td>\n",
       "      <td>0.006571</td>\n",
       "      <td>0.005258</td>\n",
       "      <td>0.003041</td>\n",
       "      <td>0.001571</td>\n",
       "      <td>3.679452</td>\n",
       "    </tr>\n",
       "    <tr>\n",
       "      <th>4</th>\n",
       "      <td>0.207697</td>\n",
       "      <td>0.197579</td>\n",
       "      <td>0.187289</td>\n",
       "      <td>0.181697</td>\n",
       "      <td>0.174680</td>\n",
       "      <td>0.167442</td>\n",
       "      <td>0.160679</td>\n",
       "      <td>0.151619</td>\n",
       "      <td>0.145198</td>\n",
       "      <td>0.139652</td>\n",
       "      <td>...</td>\n",
       "      <td>0.006137</td>\n",
       "      <td>0.005005</td>\n",
       "      <td>0.004977</td>\n",
       "      <td>0.005275</td>\n",
       "      <td>0.004483</td>\n",
       "      <td>0.003734</td>\n",
       "      <td>0.003194</td>\n",
       "      <td>0.001900</td>\n",
       "      <td>0.001467</td>\n",
       "      <td>1.478675</td>\n",
       "    </tr>\n",
       "  </tbody>\n",
       "</table>\n",
       "<p>5 rows × 286 columns</p>\n",
       "</div>"
      ],
      "text/plain": [
       "          0         1         2         3         4         5         6  \\\n",
       "0  0.204741  0.197175  0.191094  0.183757  0.176931  0.170667  0.163259   \n",
       "1  0.212543  0.205032  0.198230  0.191868  0.185520  0.181054  0.175790   \n",
       "2  0.257069  0.247040  0.239279  0.235955  0.229980  0.225172  0.220556   \n",
       "3  0.228153  0.222575  0.218219  0.216051  0.211564  0.209291  0.206787   \n",
       "4  0.207697  0.197579  0.187289  0.181697  0.174680  0.167442  0.160679   \n",
       "\n",
       "          7         8         9  ...       276       277       278       279  \\\n",
       "0  0.156790  0.149403  0.143051  ...  0.008419  0.007556  0.006943  0.007534   \n",
       "1  0.169040  0.163979  0.158545  ...  0.031703  0.030989  0.016408  0.021509   \n",
       "2  0.213525  0.208892  0.204352  ...  0.048935  0.047420  0.036086  0.035361   \n",
       "3  0.202573  0.200234  0.198054  ...  0.019022  0.018087  0.010125  0.011289   \n",
       "4  0.151619  0.145198  0.139652  ...  0.006137  0.005005  0.004977  0.005275   \n",
       "\n",
       "        280       281       282       283       284        wv  \n",
       "0  0.006608  0.005288  0.005188  0.003175  0.002177  0.730501  \n",
       "1  0.018800  0.011752  0.009750  0.006126  0.003743  3.903775  \n",
       "2  0.032842  0.028992  0.024074  0.016344  0.010617  2.440262  \n",
       "3  0.010260  0.006571  0.005258  0.003041  0.001571  3.679452  \n",
       "4  0.004483  0.003734  0.003194  0.001900  0.001467  1.478675  \n",
       "\n",
       "[5 rows x 286 columns]"
      ]
     },
     "execution_count": 20,
     "metadata": {},
     "output_type": "execute_result"
    }
   ],
   "source": [
    "df.head()"
   ]
  },
  {
   "cell_type": "code",
   "execution_count": 23,
   "id": "5a3b2187-d2a9-4786-a601-dfc643d5210e",
   "metadata": {},
   "outputs": [],
   "source": [
    "X = df.iloc[:, :-1]\n",
    "y = df.iloc[:, -1]"
   ]
  },
  {
   "cell_type": "code",
   "execution_count": 24,
   "id": "77ddeb00-d197-4854-968a-5e7fd439222c",
   "metadata": {},
   "outputs": [
    {
     "data": {
      "text/plain": [
       "(3500, 285)"
      ]
     },
     "execution_count": 24,
     "metadata": {},
     "output_type": "execute_result"
    }
   ],
   "source": [
    "from sklearn.model_selection import train_test_split\n",
    "\n",
    "X_train, X_test, y_train, y_test = train_test_split(X, y, test_size = 0.3, random_state = 50)\n",
    "X_train.shape"
   ]
  },
  {
   "cell_type": "code",
   "execution_count": 25,
   "id": "f5faf1ca-4d94-41c4-a2e8-8c98b49e0620",
   "metadata": {},
   "outputs": [
    {
     "data": {
      "text/html": [
       "<style>#sk-container-id-1 {color: black;}#sk-container-id-1 pre{padding: 0;}#sk-container-id-1 div.sk-toggleable {background-color: white;}#sk-container-id-1 label.sk-toggleable__label {cursor: pointer;display: block;width: 100%;margin-bottom: 0;padding: 0.3em;box-sizing: border-box;text-align: center;}#sk-container-id-1 label.sk-toggleable__label-arrow:before {content: \"▸\";float: left;margin-right: 0.25em;color: #696969;}#sk-container-id-1 label.sk-toggleable__label-arrow:hover:before {color: black;}#sk-container-id-1 div.sk-estimator:hover label.sk-toggleable__label-arrow:before {color: black;}#sk-container-id-1 div.sk-toggleable__content {max-height: 0;max-width: 0;overflow: hidden;text-align: left;background-color: #f0f8ff;}#sk-container-id-1 div.sk-toggleable__content pre {margin: 0.2em;color: black;border-radius: 0.25em;background-color: #f0f8ff;}#sk-container-id-1 input.sk-toggleable__control:checked~div.sk-toggleable__content {max-height: 200px;max-width: 100%;overflow: auto;}#sk-container-id-1 input.sk-toggleable__control:checked~label.sk-toggleable__label-arrow:before {content: \"▾\";}#sk-container-id-1 div.sk-estimator input.sk-toggleable__control:checked~label.sk-toggleable__label {background-color: #d4ebff;}#sk-container-id-1 div.sk-label input.sk-toggleable__control:checked~label.sk-toggleable__label {background-color: #d4ebff;}#sk-container-id-1 input.sk-hidden--visually {border: 0;clip: rect(1px 1px 1px 1px);clip: rect(1px, 1px, 1px, 1px);height: 1px;margin: -1px;overflow: hidden;padding: 0;position: absolute;width: 1px;}#sk-container-id-1 div.sk-estimator {font-family: monospace;background-color: #f0f8ff;border: 1px dotted black;border-radius: 0.25em;box-sizing: border-box;margin-bottom: 0.5em;}#sk-container-id-1 div.sk-estimator:hover {background-color: #d4ebff;}#sk-container-id-1 div.sk-parallel-item::after {content: \"\";width: 100%;border-bottom: 1px solid gray;flex-grow: 1;}#sk-container-id-1 div.sk-label:hover label.sk-toggleable__label {background-color: #d4ebff;}#sk-container-id-1 div.sk-serial::before {content: \"\";position: absolute;border-left: 1px solid gray;box-sizing: border-box;top: 0;bottom: 0;left: 50%;z-index: 0;}#sk-container-id-1 div.sk-serial {display: flex;flex-direction: column;align-items: center;background-color: white;padding-right: 0.2em;padding-left: 0.2em;position: relative;}#sk-container-id-1 div.sk-item {position: relative;z-index: 1;}#sk-container-id-1 div.sk-parallel {display: flex;align-items: stretch;justify-content: center;background-color: white;position: relative;}#sk-container-id-1 div.sk-item::before, #sk-container-id-1 div.sk-parallel-item::before {content: \"\";position: absolute;border-left: 1px solid gray;box-sizing: border-box;top: 0;bottom: 0;left: 50%;z-index: -1;}#sk-container-id-1 div.sk-parallel-item {display: flex;flex-direction: column;z-index: 1;position: relative;background-color: white;}#sk-container-id-1 div.sk-parallel-item:first-child::after {align-self: flex-end;width: 50%;}#sk-container-id-1 div.sk-parallel-item:last-child::after {align-self: flex-start;width: 50%;}#sk-container-id-1 div.sk-parallel-item:only-child::after {width: 0;}#sk-container-id-1 div.sk-dashed-wrapped {border: 1px dashed gray;margin: 0 0.4em 0.5em 0.4em;box-sizing: border-box;padding-bottom: 0.4em;background-color: white;}#sk-container-id-1 div.sk-label label {font-family: monospace;font-weight: bold;display: inline-block;line-height: 1.2em;}#sk-container-id-1 div.sk-label-container {text-align: center;}#sk-container-id-1 div.sk-container {/* jupyter's `normalize.less` sets `[hidden] { display: none; }` but bootstrap.min.css set `[hidden] { display: none !important; }` so we also need the `!important` here to be able to override the default hidden behavior on the sphinx rendered scikit-learn.org. See: https://github.com/scikit-learn/scikit-learn/issues/21755 */display: inline-block !important;position: relative;}#sk-container-id-1 div.sk-text-repr-fallback {display: none;}</style><div id=\"sk-container-id-1\" class=\"sk-top-container\"><div class=\"sk-text-repr-fallback\"><pre>DecisionTreeRegressor(random_state=0)</pre><b>In a Jupyter environment, please rerun this cell to show the HTML representation or trust the notebook. <br />On GitHub, the HTML representation is unable to render, please try loading this page with nbviewer.org.</b></div><div class=\"sk-container\" hidden><div class=\"sk-item\"><div class=\"sk-estimator sk-toggleable\"><input class=\"sk-toggleable__control sk-hidden--visually\" id=\"sk-estimator-id-1\" type=\"checkbox\" checked><label for=\"sk-estimator-id-1\" class=\"sk-toggleable__label sk-toggleable__label-arrow\">DecisionTreeRegressor</label><div class=\"sk-toggleable__content\"><pre>DecisionTreeRegressor(random_state=0)</pre></div></div></div></div></div>"
      ],
      "text/plain": [
       "DecisionTreeRegressor(random_state=0)"
      ]
     },
     "execution_count": 25,
     "metadata": {},
     "output_type": "execute_result"
    }
   ],
   "source": [
    "from sklearn.tree import DecisionTreeRegressor\n",
    "\n",
    "dt = DecisionTreeRegressor(random_state = 0)\n",
    "dt.fit(X_train, y_train)"
   ]
  },
  {
   "cell_type": "code",
   "execution_count": 26,
   "id": "97f3ff66-8f0b-4b2a-aa70-2f72b875fa76",
   "metadata": {},
   "outputs": [],
   "source": [
    "y_pred = dt.predict(X_test)"
   ]
  },
  {
   "cell_type": "code",
   "execution_count": 32,
   "id": "e0e073ad-8af6-4142-9a3f-49fe00f08ee7",
   "metadata": {},
   "outputs": [
    {
     "data": {
      "text/plain": [
       "Text(0.5, 1.0, 'Default Decision Tree Regression')"
      ]
     },
     "execution_count": 32,
     "metadata": {},
     "output_type": "execute_result"
    },
    {
     "data": {
      "image/png": "[encoded data removed]",
      "text/plain": [
       "<Figure size 640x480 with 1 Axes>"
      ]
     },
     "metadata": {},
     "output_type": "display_data"
    }
   ],
   "source": [
    "plt.hist(y_test, alpha = 0.7, label = 'Actual ')\n",
    "plt.hist(y_pred, alpha = 0.7, label = 'Predicted')\n",
    "plt.legend()\n",
    "plt.xlabel('Atmospheric WV (g/cm^2)')\n",
    "plt.ylabel('Frequency')\n",
    "plt.title('Default Decision Tree Regression')"
   ]
  },
  {
   "cell_type": "code",
   "execution_count": 33,
   "id": "03ffd994-29e7-4e5c-bc57-20b41508b8f8",
   "metadata": {},
   "outputs": [],
   "source": [
    "from sklearn.ensemble import RandomForestRegressor\n",
    "rf = RandomForestRegressor()"
   ]
  },
  {
   "cell_type": "code",
   "execution_count": 34,
   "id": "25625238-381c-4039-8dfc-3656bf49edbe",
   "metadata": {
    "scrolled": true
   },
   "outputs": [
    {
     "data": {
      "text/html": [
       "<style>#sk-container-id-2 {color: black;}#sk-container-id-2 pre{padding: 0;}#sk-container-id-2 div.sk-toggleable {background-color: white;}#sk-container-id-2 label.sk-toggleable__label {cursor: pointer;display: block;width: 100%;margin-bottom: 0;padding: 0.3em;box-sizing: border-box;text-align: center;}#sk-container-id-2 label.sk-toggleable__label-arrow:before {content: \"▸\";float: left;margin-right: 0.25em;color: #696969;}#sk-container-id-2 label.sk-toggleable__label-arrow:hover:before {color: black;}#sk-container-id-2 div.sk-estimator:hover label.sk-toggleable__label-arrow:before {color: black;}#sk-container-id-2 div.sk-toggleable__content {max-height: 0;max-width: 0;overflow: hidden;text-align: left;background-color: #f0f8ff;}#sk-container-id-2 div.sk-toggleable__content pre {margin: 0.2em;color: black;border-radius: 0.25em;background-color: #f0f8ff;}#sk-container-id-2 input.sk-toggleable__control:checked~div.sk-toggleable__content {max-height: 200px;max-width: 100%;overflow: auto;}#sk-container-id-2 input.sk-toggleable__control:checked~label.sk-toggleable__label-arrow:before {content: \"▾\";}#sk-container-id-2 div.sk-estimator input.sk-toggleable__control:checked~label.sk-toggleable__label {background-color: #d4ebff;}#sk-container-id-2 div.sk-label input.sk-toggleable__control:checked~label.sk-toggleable__label {background-color: #d4ebff;}#sk-container-id-2 input.sk-hidden--visually {border: 0;clip: rect(1px 1px 1px 1px);clip: rect(1px, 1px, 1px, 1px);height: 1px;margin: -1px;overflow: hidden;padding: 0;position: absolute;width: 1px;}#sk-container-id-2 div.sk-estimator {font-family: monospace;background-color: #f0f8ff;border: 1px dotted black;border-radius: 0.25em;box-sizing: border-box;margin-bottom: 0.5em;}#sk-container-id-2 div.sk-estimator:hover {background-color: #d4ebff;}#sk-container-id-2 div.sk-parallel-item::after {content: \"\";width: 100%;border-bottom: 1px solid gray;flex-grow: 1;}#sk-container-id-2 div.sk-label:hover label.sk-toggleable__label {background-color: #d4ebff;}#sk-container-id-2 div.sk-serial::before {content: \"\";position: absolute;border-left: 1px solid gray;box-sizing: border-box;top: 0;bottom: 0;left: 50%;z-index: 0;}#sk-container-id-2 div.sk-serial {display: flex;flex-direction: column;align-items: center;background-color: white;padding-right: 0.2em;padding-left: 0.2em;position: relative;}#sk-container-id-2 div.sk-item {position: relative;z-index: 1;}#sk-container-id-2 div.sk-parallel {display: flex;align-items: stretch;justify-content: center;background-color: white;position: relative;}#sk-container-id-2 div.sk-item::before, #sk-container-id-2 div.sk-parallel-item::before {content: \"\";position: absolute;border-left: 1px solid gray;box-sizing: border-box;top: 0;bottom: 0;left: 50%;z-index: -1;}#sk-container-id-2 div.sk-parallel-item {display: flex;flex-direction: column;z-index: 1;position: relative;background-color: white;}#sk-container-id-2 div.sk-parallel-item:first-child::after {align-self: flex-end;width: 50%;}#sk-container-id-2 div.sk-parallel-item:last-child::after {align-self: flex-start;width: 50%;}#sk-container-id-2 div.sk-parallel-item:only-child::after {width: 0;}#sk-container-id-2 div.sk-dashed-wrapped {border: 1px dashed gray;margin: 0 0.4em 0.5em 0.4em;box-sizing: border-box;padding-bottom: 0.4em;background-color: white;}#sk-container-id-2 div.sk-label label {font-family: monospace;font-weight: bold;display: inline-block;line-height: 1.2em;}#sk-container-id-2 div.sk-label-container {text-align: center;}#sk-container-id-2 div.sk-container {/* jupyter's `normalize.less` sets `[hidden] { display: none; }` but bootstrap.min.css set `[hidden] { display: none !important; }` so we also need the `!important` here to be able to override the default hidden behavior on the sphinx rendered scikit-learn.org. See: https://github.com/scikit-learn/scikit-learn/issues/21755 */display: inline-block !important;position: relative;}#sk-container-id-2 div.sk-text-repr-fallback {display: none;}</style><div id=\"sk-container-id-2\" class=\"sk-top-container\"><div class=\"sk-text-repr-fallback\"><pre>RandomForestRegressor()</pre><b>In a Jupyter environment, please rerun this cell to show the HTML representation or trust the notebook. <br />On GitHub, the HTML representation is unable to render, please try loading this page with nbviewer.org.</b></div><div class=\"sk-container\" hidden><div class=\"sk-item\"><div class=\"sk-estimator sk-toggleable\"><input class=\"sk-toggleable__control sk-hidden--visually\" id=\"sk-estimator-id-2\" type=\"checkbox\" checked><label for=\"sk-estimator-id-2\" class=\"sk-toggleable__label sk-toggleable__label-arrow\">RandomForestRegressor</label><div class=\"sk-toggleable__content\"><pre>RandomForestRegressor()</pre></div></div></div></div></div>"
      ],
      "text/plain": [
       "RandomForestRegressor()"
      ]
     },
     "execution_count": 34,
     "metadata": {},
     "output_type": "execute_result"
    }
   ],
   "source": [
    "rf.fit(X_train, y_train)"
   ]
  },
  {
   "cell_type": "code",
   "execution_count": 37,
   "id": "02dcbd54-17c8-403b-9526-fb944ed26267",
   "metadata": {},
   "outputs": [],
   "source": [
    "import pickle\n",
    "file_name = '../default_scikit_rfr.pkl'\n",
    "with open(file_name, 'wb') as file:\n",
    "    pickle.dump(rf, file)"
   ]
  },
  {
   "cell_type": "code",
   "execution_count": 38,
   "id": "0a8d4632-f75d-4bec-a8a7-b65d733f4941",
   "metadata": {},
   "outputs": [],
   "source": [
    "y_pred = rf.predict(X_test)"
   ]
  },
  {
   "cell_type": "code",
   "execution_count": 39,
   "id": "445e01ee-b22f-4a58-bf7a-5df50f643e23",
   "metadata": {},
   "outputs": [
    {
     "data": {
      "text/plain": [
       "Text(0.5, 1.0, 'Default SKL Random Forest')"
      ]
     },
     "execution_count": 39,
     "metadata": {},
     "output_type": "execute_result"
    },
    {
     "data": {
      "image/png": "[encoded data removed]",
      "text/plain": [
       "<Figure size 640x480 with 1 Axes>"
      ]
     },
     "metadata": {},
     "output_type": "display_data"
    }
   ],
   "source": [
    "plt.hist(y_test, alpha = 0.7, label = 'Actual ')\n",
    "plt.hist(y_pred, alpha = 0.7, label = 'Predicted')\n",
    "plt.legend()\n",
    "plt.xlabel('Atmospheric WV (g/cm^2)')\n",
    "plt.ylabel('Frequency')\n",
    "plt.title('Default SKL Random Forest')"
   ]
  },
  {
   "cell_type": "code",
   "execution_count": null,
   "id": "090b5fa2-8554-4372-b82a-b2ebdf426aea",
   "metadata": {},
   "outputs": [],
   "source": []
  }
 ],
 "metadata": {
  "kernelspec": {
   "display_name": "Python 3 (ipykernel)",
   "language": "python",
   "name": "python3"
  },
  "language_info": {
   "codemirror_mode": {
    "name": "ipython",
    "version": 3
   },
   "file_extension": ".py",
   "mimetype": "text/x-python",
   "name": "python",
   "nbconvert_exporter": "python",
   "pygments_lexer": "ipython3",
   "version": "3.10.12"
  }
 },
 "nbformat": 4,
 "nbformat_minor": 5
}
