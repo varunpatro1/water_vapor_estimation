{
 "cells": [
  {
   "cell_type": "code",
   "execution_count": 1,
   "id": "f376458d-53ac-4933-a145-51cf05044f87",
   "metadata": {},
   "outputs": [],
   "source": [
    "import numpy as np\n",
    "import pandas as pd\n",
    "from sklearn.model_selection import train_test_split\n",
    "import dt_feature_sel"
   ]
  },
  {
   "cell_type": "code",
   "execution_count": 2,
   "id": "199b3498-27cd-4039-b5bb-87fa4def3ced",
   "metadata": {},
   "outputs": [],
   "source": [
    "dt_feature_sel.main()"
   ]
  },
  {
   "cell_type": "code",
   "execution_count": null,
   "id": "ccf4cb11-dd7c-41cc-aa40-78f55948a572",
   "metadata": {},
   "outputs": [],
   "source": []
  }
 ],
 "metadata": {
  "kernelspec": {
   "display_name": "Python 3 (ipykernel)",
   "language": "python",
   "name": "python3"
  },
  "language_info": {
   "codemirror_mode": {
    "name": "ipython",
    "version": 3
   },
   "file_extension": ".py",
   "mimetype": "text/x-python",
   "name": "python",
   "nbconvert_exporter": "python",
   "pygments_lexer": "ipython3",
   "version": "3.10.12"
  }
 },
 "nbformat": 4,
 "nbformat_minor": 5
}
