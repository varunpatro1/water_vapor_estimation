{
 "cells": [
  {
   "cell_type": "code",
   "execution_count": 1,
   "id": "9b65192b-821b-4943-8d0a-9c1975f2c39e",
   "metadata": {},
   "outputs": [],
   "source": [
    "import numpy as np\n",
    "import pandas as pd\n",
    "import matplotlib.pyplot as plt\n",
    "import pickle\n",
    "from scipy.stats import gaussian_kde\n",
    "from sklearn.metrics import mean_squared_error\n",
    "import os\n",
    "import sys\n",
    "import math\n",
    "import seaborn as sns\n",
    "\n",
    "parent_dir = os.path.dirname(os.path.realpath('../analysis'))\n",
    "\n",
    "# Add the parent directory to sys.path\n",
    "sys.path.append(parent_dir)\n",
    "\n",
    "# Import the module from the parent directory\n",
    "import analysis.model_assessment\n",
    "import analysis.train_data_analysis\n",
    "from analysis.model_assessment import *"
   ]
  },
  {
   "cell_type": "code",
   "execution_count": null,
   "id": "3ad5c2ed-3aa7-4a26-8621-94b11c73e824",
   "metadata": {},
   "outputs": [],
   "source": []
  }
 ],
 "metadata": {
  "kernelspec": {
   "display_name": "Python 3 (ipykernel)",
   "language": "python",
   "name": "python3"
  },
  "language_info": {
   "codemirror_mode": {
    "name": "ipython",
    "version": 3
   },
   "file_extension": ".py",
   "mimetype": "text/x-python",
   "name": "python",
   "nbconvert_exporter": "python",
   "pygments_lexer": "ipython3",
   "version": "3.10.12"
  }
 },
 "nbformat": 4,
 "nbformat_minor": 5
}
