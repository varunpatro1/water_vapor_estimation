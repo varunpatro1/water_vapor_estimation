{
 "cells": [
  {
   "cell_type": "code",
   "execution_count": null,
   "id": "d2bb6826-642d-4840-b73f-fffea37bc85c",
   "metadata": {},
   "outputs": [],
   "source": [
    "import pandas as pd\n",
    "import numpy as np\n",
    "import preprocess\n",
    "import analysis.train_data_analysis \n",
    "import analysis.model_assessment"
   ]
  },
  {
   "cell_type": "code",
   "execution_count": null,
   "id": "281bba15-5a38-47d4-bc8b-e917a8902271",
   "metadata": {
    "scrolled": true
   },
   "outputs": [],
   "source": [
    "data = np.load('../train_no_clouds.npz')\n",
    "refls = data['output_rfl']\n",
    "wv = data['output_wv']\n",
    "fids = data['output_idx']\n",
    "\n",
    "values, counts = np.unique(fids, return_counts=True)\n",
    "scenes = np.split(refls, 743)\n",
    "wv_by_scene = np.split(wv, 743)\n",
    "scenes = np.array(scenes)\n",
    "wv_by_scene = np.array(wv_by_scene)\n",
    "\n",
    "print(scenes.shape)\n",
    "print(wv_by_scene.shape)\n",
    "\n",
    "bad = []\n",
    "for i in range(wv_by_scene.shape[0]):\n",
    "    scene = wv_by_scene[i].copy()\n",
    "    if scene[np.where((scene > 6) | (scene < 0))].shape[0] != 0:\n",
    "        bad.append(i)\n",
    "\n",
    "wv_by_scene = np.delete(wv_by_scene, bad, axis = 0)\n",
    "scenes = np.delete(scenes, bad, axis = 0)\n",
    "print(scenes.shape)\n",
    "print(wv_by_scene.shape)"
   ]
  },
  {
   "cell_type": "code",
   "execution_count": null,
   "id": "65db993c-3aca-498b-9d62-9a72dcabfcf8",
   "metadata": {},
   "outputs": [],
   "source": [
    "df = pd.read_pickle('../lhs_743.pkl')\n",
    "df = df.drop(df.index[bad])\n",
    "print(df.shape)\n",
    "df.to_pickle('../lhs_18.pkl')"
   ]
  },
  {
   "cell_type": "code",
   "execution_count": null,
   "id": "0daf08d2-c228-4418-bc91-93dfa2afd147",
   "metadata": {},
   "outputs": [],
   "source": [
    "df = pd.read_pickle('../lhs_743.pkl')\n",
    "bad_df = df.iloc[bad, :]\n",
    "bad_df.to_pickle('../lhs_bad_pixels_25.pkl')"
   ]
  },
  {
   "cell_type": "code",
   "execution_count": null,
   "id": "be5d1eb2-6419-47b6-99e7-71315bc67bb1",
   "metadata": {},
   "outputs": [],
   "source": [
    "bad"
   ]
  },
  {
   "cell_type": "code",
   "execution_count": null,
   "id": "a0ae18c7-4c4f-44da-8d15-535fa722b19d",
   "metadata": {},
   "outputs": [],
   "source": [
    "for i in range(wv_by_scene.shape[0]):\n",
    "    plt.plot(wv_by_scene[i])\n",
    "    plt.yticks(range(-1, 8))\n",
    "    plt.xticks([0, 100, 200, 300, 400, 500, 600, 700, 800, 900, 1000, 1100, 1200, 1300])\n",
    "    plt.ylabel('Water Vapor (g/cm^2)')\n",
    "    plt.xlabel('Crosstrack Pixel Number')\n",
    "    plt.title('Atmospheric WV for Cloud Filtered Individual Scene Downtracks');"
   ]
  },
  {
   "cell_type": "code",
   "execution_count": null,
   "id": "98e40697-a2b0-4da0-82f4-2563655d97ff",
   "metadata": {},
   "outputs": [],
   "source": [
    "plt.imshow(wv_by_scene, vmin = -1, vmax = 8)\n",
    "plt.colorbar()\n",
    "yticks = range(0, 750, 75)\n",
    "plt.yticks(yticks)\n",
    "plt.xticks(range(0, 1300, 100), rotation = 'vertical')\n",
    "plt.xlabel('Crosstrack Pixel Number')\n",
    "plt.ylabel('Scene Number')\n",
    "plt.title('WV for Cloud Filtered Individual Scene Crosstracks');"
   ]
  },
  {
   "cell_type": "code",
   "execution_count": null,
   "id": "7cd0b239-6e83-43df-8d6f-adfb98118ea6",
   "metadata": {},
   "outputs": [],
   "source": [
    "analysis.train_data_analysis.plot_overall_hist(wv_by_scene)"
   ]
  },
  {
   "cell_type": "code",
   "execution_count": null,
   "id": "02e00863-98c1-4e4d-8abf-5b9e9c1acc8c",
   "metadata": {},
   "outputs": [],
   "source": [
    "analysis.train_data_analysis.colorbar_all_crosstracks(wv_by_scene)"
   ]
  },
  {
   "cell_type": "code",
   "execution_count": null,
   "id": "febbd609-1f17-4640-a3fc-7f025dca490d",
   "metadata": {},
   "outputs": [],
   "source": [
    "import matplotlib.pyplot as plt"
   ]
  },
  {
   "cell_type": "code",
   "execution_count": null,
   "id": "60edb94c-8fc5-4f21-9264-f77b4945ea12",
   "metadata": {},
   "outputs": [],
   "source": [
    "%matplotlib inline\n",
    "plt.hist(wv_by_scene.flatten())\n",
    "plt.xlabel('WV (g/cm^2)')\n",
    "plt.ylabel('Frequency')\n",
    "plt.title('WV Histogram EMIT Data')\n",
    "plt.show()"
   ]
  },
  {
   "cell_type": "code",
   "execution_count": null,
   "id": "ea62db3d-8822-48f2-98aa-09b7dbc55379",
   "metadata": {},
   "outputs": [],
   "source": [
    "from sklearn.model_selection import train_test_split\n",
    "\n",
    "np.random.seed(42)\n",
    "X_idx = np.random.choice(718, 100)\n",
    "y_idx = X_idx\n",
    "X_train_idx, X_test_idx, y_train_idx, y_test_idx = train_test_split(X_idx, y_idx, test_size = 0.2, random_state = 50)\n",
    "\n",
    "X_train = scenes[X_train_idx, :, :]\n",
    "X_train = X_train.reshape((X_train.shape[0]*X_train.shape[1], X_train.shape[2]))\n",
    "X_test = scenes[X_test_idx, :, :]\n",
    "X_test = X_test.reshape((X_test.shape[0]*X_test.shape[1], X_test.shape[2]))\n",
    "y_train = wv_by_scene[y_train_idx, :]\n",
    "y_train = y_train.flatten()\n",
    "y_test = wv_by_scene[y_test_idx, :]\n",
    "y_test = y_test.flatten()\n",
    "\n",
    "\n",
    "print('X train: ', X_train.shape)\n",
    "print('y train: ', y_train.shape)\n",
    "print('X test: ', X_test.shape)\n",
    "print('y test : ', y_test.shape)\n",
    "print('X train index: ', X_train_idx) \n",
    "print('y train index: ', y_train_idx) \n",
    "print('X test index: ', X_test_idx) \n",
    "print('y test index: ', y_test_idx) "
   ]
  },
  {
   "cell_type": "code",
   "execution_count": null,
   "id": "ee4118a5-a5ca-4542-ae59-88a2049a38e4",
   "metadata": {},
   "outputs": [],
   "source": [
    "analysis.model_assessment.plot_hist(y_train, y_test, 'Distribution of Training and Testing Labels', 'Train', 'Test')"
   ]
  },
  {
   "cell_type": "code",
   "execution_count": null,
   "id": "4966a5a2-ac29-4eda-8137-aa7b1f194306",
   "metadata": {},
   "outputs": [],
   "source": [
    "from sklearn.tree import DecisionTreeRegressor\n",
    "\n",
    "dt = DecisionTreeRegressor(random_state = 0)\n",
    "dt.fit(X_train, y_train)\n",
    "y_pred = dt.predict(X_test)"
   ]
  },
  {
   "cell_type": "code",
   "execution_count": null,
   "id": "7d8e61a6-927f-4c55-82f4-85ff451a0037",
   "metadata": {},
   "outputs": [],
   "source": [
    "analysis.model_assessment.plot_hist_and_scatter(y_test, y_pred, 'DT Histogram', 'DT Scatter')"
   ]
  },
  {
   "cell_type": "code",
   "execution_count": null,
   "id": "bf04f4f4-cf39-4117-97a9-f3b08b758a48",
   "metadata": {},
   "outputs": [],
   "source": [
    "from scipy.stats import gaussian_kde\n",
    "xy_model = np.vstack([y_test, y_pred])\n",
    "z_model = gaussian_kde(xy_model)(xy_model)\n",
    "plt.scatter(y_test, y_pred, c=z_model, s=1, cmap=\"jet\")\n",
    "plt.colorbar()\n",
    "plt.xlabel('Actual WV')\n",
    "plt.ylabel('Predicted WV')\n",
    "plt.title('Gaussian KDE Scatter Plot for DT')"
   ]
  },
  {
   "cell_type": "code",
   "execution_count": null,
   "id": "7804b131-2b26-4159-aed5-93bdd300bba4",
   "metadata": {},
   "outputs": [],
   "source": [
    "plt.hist(y_train, alpha = 0.6, label = 'Train')\n",
    "plt.hist(y_test, alpha = 0.6, label = 'Test')\n",
    "plt.hist(y_pred, alpha = 0.6, label = 'Predicted')\n",
    "plt.xlabel('Atmospheric WV (g/cm^2)')\n",
    "plt.ylabel('Frequency')\n",
    "plt.title('Train, Test and Predicted Histograms')\n",
    "plt.legend()"
   ]
  },
  {
   "cell_type": "code",
   "execution_count": null,
   "id": "379cbf97-7b58-49d9-81dd-ae998889f30b",
   "metadata": {},
   "outputs": [],
   "source": [
    "scenes.shape"
   ]
  },
  {
   "cell_type": "code",
   "execution_count": null,
   "id": "9c76fd20-b34f-475b-a9cf-dcf2f0ebb9a8",
   "metadata": {},
   "outputs": [],
   "source": [
    "wv_by_scene.shape"
   ]
  },
  {
   "cell_type": "code",
   "execution_count": null,
   "id": "4d4fec67-4c45-4122-8fa2-7914b2e5c805",
   "metadata": {},
   "outputs": [],
   "source": [
    "plt.hist(wv_by_scene.flatten())"
   ]
  },
  {
   "cell_type": "code",
   "execution_count": null,
   "id": "69e29aa7-803e-402f-84f4-61a61482519c",
   "metadata": {},
   "outputs": [],
   "source": [
    "from sklearn.model_selection import train_test_split\n",
    "\n",
    "np.random.seed(42)\n",
    "X_idx = np.arange(718)\n",
    "y_idx = X_idx\n",
    "X_train_idx, X_test_idx, y_train_idx, y_test_idx = train_test_split(X_idx, y_idx, test_size = 0.2, random_state = 50)\n",
    "\n",
    "X_train = scenes[X_train_idx, :, :]\n",
    "X_train = X_train.reshape((X_train.shape[0]*X_train.shape[1], X_train.shape[2]))\n",
    "X_test = scenes[X_test_idx, :, :]\n",
    "X_test = X_test.reshape((X_test.shape[0]*X_test.shape[1], X_test.shape[2]))\n",
    "y_train = wv_by_scene[y_train_idx, :]\n",
    "y_train = y_train.flatten()\n",
    "y_test = wv_by_scene[y_test_idx, :]\n",
    "y_test = y_test.flatten()\n",
    "\n",
    "\n",
    "print('X train: ', X_train.shape)\n",
    "print('y train: ', y_train.shape)\n",
    "print('X test: ', X_test.shape)\n",
    "print('y test : ', y_test.shape)"
   ]
  },
  {
   "cell_type": "code",
   "execution_count": null,
   "id": "0cbe6c9a-7ea3-4a7c-b2ee-bcee839cb0c4",
   "metadata": {},
   "outputs": [],
   "source": [
    "analysis.model_assessment.plot_hist(y_train, y_test, 'Distribution of Training and Testing Labels', 'Train', 'Test')"
   ]
  },
  {
   "cell_type": "code",
   "execution_count": null,
   "id": "b744ec3a-939e-40e8-9494-e3a8a7f33aa5",
   "metadata": {},
   "outputs": [],
   "source": []
  }
 ],
 "metadata": {
  "kernelspec": {
   "display_name": "Python 3 (ipykernel)",
   "language": "python",
   "name": "python3"
  },
  "language_info": {
   "codemirror_mode": {
    "name": "ipython",
    "version": 3
   },
   "file_extension": ".py",
   "mimetype": "text/x-python",
   "name": "python",
   "nbconvert_exporter": "python",
   "pygments_lexer": "ipython3",
   "version": "3.10.12"
  }
 },
 "nbformat": 4,
 "nbformat_minor": 5
}
