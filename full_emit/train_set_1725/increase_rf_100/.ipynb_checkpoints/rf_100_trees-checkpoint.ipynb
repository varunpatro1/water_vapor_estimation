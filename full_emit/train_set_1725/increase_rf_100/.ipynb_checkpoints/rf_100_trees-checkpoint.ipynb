{
 "cells": [
  {
   "cell_type": "code",
   "execution_count": 2,
   "id": "70e9e8fb-44d3-42df-9b6b-1d929973fb50",
   "metadata": {},
   "outputs": [],
   "source": [
    "import numpy as np\n",
    "import pandas as pd\n",
    "import matplotlib.pyplot as plt\n",
    "import pickle\n",
    "from scipy.stats import gaussian_kde\n",
    "from sklearn.metrics import mean_squared_error\n",
    "import os\n",
    "import sys\n",
    "import math\n",
    "import seaborn as sns\n",
    "\n",
    "parent_dir = os.path.dirname(os.path.realpath('../../../analysis'))\n",
    "\n",
    "# Add the parent directory to sys.path\n",
    "sys.path.append(parent_dir)\n",
    "\n",
    "# Import the module from the parent directory\n",
    "import analysis.model_assessment\n",
    "import analysis.train_data_analysis\n",
    "from analysis.model_assessment import *"
   ]
  },
  {
   "cell_type": "code",
   "execution_count": 3,
   "id": "2e019aec-c3d8-457a-b70e-5137cb4f7638",
   "metadata": {},
   "outputs": [],
   "source": [
    "path = '../../../../model_results/train_set_1725'"
   ]
  },
  {
   "cell_type": "code",
   "execution_count": null,
   "id": "f097da11-01ca-43f1-b00d-374cbfe7cbee",
   "metadata": {},
   "outputs": [],
   "source": []
  }
 ],
 "metadata": {
  "kernelspec": {
   "display_name": "Python 3 (ipykernel)",
   "language": "python",
   "name": "python3"
  },
  "language_info": {
   "codemirror_mode": {
    "name": "ipython",
    "version": 3
   },
   "file_extension": ".py",
   "mimetype": "text/x-python",
   "name": "python",
   "nbconvert_exporter": "python",
   "pygments_lexer": "ipython3",
   "version": "3.10.12"
  }
 },
 "nbformat": 4,
 "nbformat_minor": 5
}
