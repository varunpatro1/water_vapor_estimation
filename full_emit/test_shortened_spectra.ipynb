{
 "cells": [
  {
   "cell_type": "code",
   "execution_count": 1,
   "id": "e91ef898-ea01-450e-9194-0938c52f1e7a",
   "metadata": {},
   "outputs": [],
   "source": [
    "import numpy as np\n",
    "import pandas as pd\n",
    "import matplotlib.pyplot as plt\n",
    "import pickle\n",
    "\n",
    "import analysis.train_data_analysis \n",
    "import analysis.model_assessment\n",
    "import run_models"
   ]
  },
  {
   "cell_type": "code",
   "execution_count": 2,
   "id": "fa138cb1-ab06-4930-b781-a9234d01ef4e",
   "metadata": {},
   "outputs": [
    {
     "name": "stderr",
     "output_type": "stream",
     "text": [
      "C:\\Users\\vpatro\\AppData\\Local\\anaconda3\\envs\\isofit_env\\lib\\site-packages\\sklearn\\neural_network\\_multilayer_perceptron.py:691: ConvergenceWarning: Stochastic Optimizer: Maximum iterations (200) reached and the optimization hasn't converged yet.\n",
      "  warnings.warn(\n"
     ]
    }
   ],
   "source": [
    "run_models.main()"
   ]
  },
  {
   "cell_type": "code",
   "execution_count": null,
   "id": "ef62704c-04ee-46a9-befa-f607d3e2f040",
   "metadata": {},
   "outputs": [],
   "source": []
  }
 ],
 "metadata": {
  "kernelspec": {
   "display_name": "Python 3 (ipykernel)",
   "language": "python",
   "name": "python3"
  },
  "language_info": {
   "codemirror_mode": {
    "name": "ipython",
    "version": 3
   },
   "file_extension": ".py",
   "mimetype": "text/x-python",
   "name": "python",
   "nbconvert_exporter": "python",
   "pygments_lexer": "ipython3",
   "version": "3.10.12"
  }
 },
 "nbformat": 4,
 "nbformat_minor": 5
}
