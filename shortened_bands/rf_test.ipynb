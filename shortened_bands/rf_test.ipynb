{
 "cells": [
  {
   "cell_type": "code",
   "execution_count": 1,
   "id": "ef1e642c-7a6e-4cb4-8a9b-c98a8a56deed",
   "metadata": {},
   "outputs": [],
   "source": [
    "import numpy as np\n",
    "import pandas as pd\n",
    "import matplotlib.pyplot as plt\n",
    "\n",
    "import sys\n",
    "import os\n",
    "\n",
    "parent_dir = os.path.dirname(os.path.realpath('../analysis'))\n",
    "\n",
    "# Add the parent directory to sys.path\n",
    "sys.path.append(parent_dir)\n",
    "\n",
    "# Import the module from the parent directory\n",
    "import analysis.model_assessment\n",
    "import analysis.train_data_analysis"
   ]
  },
  {
   "cell_type": "code",
   "execution_count": 2,
   "id": "d5104570-b27f-4df0-9b57-f4e65b567607",
   "metadata": {},
   "outputs": [
    {
     "name": "stdout",
     "output_type": "stream",
     "text": [
      "(743, 1242, 285)\n",
      "(743, 1242)\n",
      "(649, 1242, 40)\n",
      "(649, 1242)\n"
     ]
    }
   ],
   "source": [
    "data = np.load('../../train_no_clouds.npz')\n",
    "refls = data['output_rfl']\n",
    "wv = data['output_wv']\n",
    "fids = data['output_idx']\n",
    "\n",
    "values, counts = np.unique(fids, return_counts=True)\n",
    "scenes = np.split(refls, 743)\n",
    "wv_by_scene = np.split(wv, 743)\n",
    "scenes = np.array(scenes)\n",
    "wv_by_scene = np.array(wv_by_scene)\n",
    "\n",
    "print(scenes.shape)\n",
    "print(wv_by_scene.shape)\n",
    "\n",
    "bad = []\n",
    "for i in range(wv_by_scene.shape[0]):\n",
    "    scene = wv_by_scene[i].copy()\n",
    "    if scene[np.where((scene > 5) | (scene < 0))].shape[0] != 0:\n",
    "        bad.append(i)\n",
    "\n",
    "wv_by_scene = np.delete(wv_by_scene, bad, axis = 0)\n",
    "scenes = np.delete(scenes, bad, axis = 0)\n",
    "\n",
    "scenes = scenes[:, :, 60:100]\n",
    "\n",
    "print(scenes.shape)\n",
    "print(wv_by_scene.shape)"
   ]
  },
  {
   "cell_type": "code",
   "execution_count": null,
   "id": "33f441a4-f82b-4a8c-b5e0-b53b1e1a3c25",
   "metadata": {},
   "outputs": [],
   "source": [
    "from sklearn.ensemble import RandomForestRegressor\n",
    "rf = RandomForestRegressor(random_state = 0)\n",
    "rf.fit(X_train, y_train)\n",
    "y_pred = rf.predict(X_test)"
   ]
  }
 ],
 "metadata": {
  "kernelspec": {
   "display_name": "Python 3 (ipykernel)",
   "language": "python",
   "name": "python3"
  },
  "language_info": {
   "codemirror_mode": {
    "name": "ipython",
    "version": 3
   },
   "file_extension": ".py",
   "mimetype": "text/x-python",
   "name": "python",
   "nbconvert_exporter": "python",
   "pygments_lexer": "ipython3",
   "version": "3.10.12"
  }
 },
 "nbformat": 4,
 "nbformat_minor": 5
}
