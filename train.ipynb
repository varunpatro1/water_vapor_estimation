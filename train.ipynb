{
 "cells": [
  {
   "cell_type": "code",
   "execution_count": 11,
   "id": "f687d0d4-e650-4c1a-a22c-bcb4cf365eb2",
   "metadata": {},
   "outputs": [],
   "source": [
    "import netCDF4 as nc\n",
    "import xarray as xr\n",
    "from geoarray import GeoArray\n",
    "from spectral.io import envi\n",
    "import matplotlib.pyplot as plt\n",
    "import numpy as np\n",
    "from isofit.core.common import resample_spectrum\n",
    "import os\n",
    "import isofit\n",
    "import tkinter\n",
    "import matplotlib\n",
    "matplotlib.use('TkAgg')\n",
    "from isofit.core.sunposition import sunpos\n",
    "import holoviews as hv\n",
    "import hvplot.xarray\n",
    "from datetime import datetime"
   ]
  },
  {
   "cell_type": "code",
   "execution_count": 12,
   "id": "41fdd8a9-523e-416c-92cc-c23e91b59bac",
   "metadata": {},
   "outputs": [],
   "source": [
    "obs_header = envi.open('../emit_obs_loc/emit20230321t150833_o08010_s000_l1b_obs_b0106_v01.hdr')\n",
    "location_header = envi.open('../emit_obs_loc/emit20230321t150833_o08010_s000_l1b_loc_b0106_v01.hdr')\n",
    "rad_header = envi.open('../west_africa_scene/wa_unortho/EMIT_L1B_RAD_001_20230321T150833_2308010_003_radiance.hdr')\n",
    "mask_header = envi.open('../west_africa_scene/wa_unortho/EMIT_L2A_MASK_001_20230321T150833_2308010_003_mask.hdr')\n",
    "\n",
    "obs_data = obs_header.open_memmap(interleave = 'bip')\n",
    "loc_data = location_header.open_memmap(interleave = 'bip')\n",
    "rad_data = rad_header.open_memmap(interleave = 'bip')\n",
    "mask_data = mask_header.open_memmap(interleave = 'bip')"
   ]
  },
  {
   "cell_type": "code",
   "execution_count": 13,
   "id": "5a5b9ee3-72a4-40b4-8611-a9e02131e4a3",
   "metadata": {},
   "outputs": [
    {
     "name": "stdout",
     "output_type": "stream",
     "text": [
      "shape of latitude:  (1280, 1242)\n",
      "shape of longitude:  (1280, 1242)\n",
      "shape of elevation:  (1280, 1242)\n",
      "shape of zenith:  ()\n",
      "shape of earth-sun distance (1280, 1242)\n",
      "shape of water vapor:  (1280, 1242)\n"
     ]
    }
   ],
   "source": [
    "lat = loc_data[:,:,0]\n",
    "lon = loc_data[:,:,1]\n",
    "elev = loc_data[:,:,2]\n",
    "zenith = obs_data[:,:,4]\n",
    "zen = np.average(zenith)\n",
    "es_distance = obs_data[:,:,10]\n",
    "water_vapor = mask_data[:,:,6]\n",
    "\n",
    "print('shape of latitude: ', lat.shape)\n",
    "print('shape of longitude: ', lon.shape)\n",
    "print('shape of elevation: ', elev.shape)\n",
    "print('shape of zenith: ', zen.shape)\n",
    "print('shape of earth-sun distance', es_distance.shape)\n",
    "print('shape of water vapor: ', water_vapor.shape)"
   ]
  },
  {
   "cell_type": "code",
   "execution_count": 14,
   "id": "8927ea72-14ee-4bd1-92ad-bd64a9a080da",
   "metadata": {},
   "outputs": [
    {
     "name": "stdout",
     "output_type": "stream",
     "text": [
      "path to irr file: C:\\Users\\vpatro\\Desktop\\isofit\\isofit\\..\\data\\kurudz_0.1nm.dat\n",
      "shape of wavelength:  (285,)\n",
      "shape of fwhm:  (285,)\n",
      "shape of irradiance:  (285,)\n",
      "shape of radiance:  (1280, 1242, 285)\n"
     ]
    }
   ],
   "source": [
    "wl = rad_header.metadata['wavelength']\n",
    "for i in range(len(wl)):\n",
    "    wl[i] = float(wl[i])\n",
    "wl = np.array(wl)\n",
    "\n",
    "fwhm = rad_header.metadata['fwhm']\n",
    "for i in range(len(fwhm)):\n",
    "    fwhm[i] = float(fwhm[i])\n",
    "fwhm = np.array(fwhm)\n",
    "\n",
    "# will need new irradiance file\n",
    "irr_file = os.path.join(\n",
    "    os.path.dirname(isofit.__file__), \"..\", \"data\", \"kurudz_0.1nm.dat\") # same for anything TOA, pure solar irradiance\n",
    "\n",
    "print('path to irr file:', irr_file)\n",
    "\n",
    "\n",
    "irr_wl, irr = np.loadtxt(irr_file, comments=\"#\").T\n",
    "irr = irr / 10  # convert to uW cm-2 sr-1 nm-1\n",
    "irr_resamp = resample_spectrum(irr, irr_wl, wl, fwhm)\n",
    "irr_resamp = np.array(irr_resamp, dtype=np.float32)\n",
    "irr = irr_resamp\n",
    "\n",
    "print('shape of wavelength: ', wl.shape)\n",
    "print('shape of fwhm: ', fwhm.shape)\n",
    "print('shape of irradiance: ', irr.shape)\n",
    "print('shape of radiance: ', rad_data.shape)\n"
   ]
  },
  {
   "cell_type": "code",
   "execution_count": 15,
   "id": "23f68304-806a-4bb9-8ab2-a63c1481463f",
   "metadata": {},
   "outputs": [
    {
     "name": "stdout",
     "output_type": "stream",
     "text": [
      "2023-03-21 15:08:33\n"
     ]
    }
   ],
   "source": [
    "flight_name = rad_header.metadata['flight_line'][0]\n",
    "\n",
    "year = flight_name[4:8]\n",
    "month = flight_name[8:10]\n",
    "date = flight_name[10:12]\n",
    "hour = flight_name[13:15]\n",
    "minute = flight_name[15:17]\n",
    "second = flight_name[17:19]\n",
    "\n",
    "dt_string = ''\n",
    "dt_string = dt_string + date + '/' + month + '/' + year + ' ' + hour + ':' + minute + ':' + second\n",
    "\n",
    "dt = datetime.strptime(dt_string, \"%d/%m/%Y %H:%M:%S\")\n",
    "print(dt)"
   ]
  },
  {
   "cell_type": "code",
   "execution_count": 16,
   "id": "5a3e477f-610c-4b80-a87f-c5eb17ae79cd",
   "metadata": {},
   "outputs": [
    {
     "data": {
      "text/plain": [
       "(1280, 1242, 285)"
      ]
     },
     "execution_count": 16,
     "metadata": {},
     "output_type": "execute_result"
    }
   ],
   "source": [
    "rho = (np.pi / np.cos(zen)) * rad_data / irr[np.newaxis, np.newaxis, :]\n",
    "rho.shape"
   ]
  },
  {
   "cell_type": "code",
   "execution_count": 17,
   "id": "68daf2db-5987-4cb2-a9a7-41e74e0eb584",
   "metadata": {},
   "outputs": [],
   "source": [
    "plt.plot(rho[750,750,:])\n",
    "plt.show()"
   ]
  },
  {
   "cell_type": "code",
   "execution_count": 18,
   "id": "997f1867-c6fe-4832-a02c-2c7545c0769d",
   "metadata": {},
   "outputs": [],
   "source": [
    "path_list = ['../emit_obs_loc/emit20230321t150833_o08010_s000_l1b_obs_b0106_v01.hdr',\n",
    "             '../west_africa_scene/wa_unortho/EMIT_L1B_RAD_001_20230321T150833_2308010_003_radiance.hdr', \n",
    "             '../west_africa_scene/wa_unortho/EMIT_L2A_MASK_001_20230321T150833_2308010_003_mask.hdr']\n",
    "\n",
    "irr_file = os.path.join(os.path.dirname(isofit.__file__), \"..\", \"data\", \"kurudz_0.1nm.dat\")"
   ]
  },
  {
   "cell_type": "code",
   "execution_count": 19,
   "id": "80be4239-a8d3-4a09-9644-6941c2f706db",
   "metadata": {},
   "outputs": [],
   "source": [
    "import preprocess"
   ]
  },
  {
   "cell_type": "code",
   "execution_count": 21,
   "id": "5a92b7fa-c02e-4839-bbc6-d3c971515edb",
   "metadata": {},
   "outputs": [
    {
     "ename": "KeyError",
     "evalue": "'wavelength'",
     "output_type": "error",
     "traceback": [
      "\u001b[1;31m---------------------------------------------------------------------------\u001b[0m",
      "\u001b[1;31mKeyError\u001b[0m                                  Traceback (most recent call last)",
      "Cell \u001b[1;32mIn[21], line 1\u001b[0m\n\u001b[1;32m----> 1\u001b[0m TOA_refl \u001b[38;5;241m=\u001b[39m \u001b[43mpreprocess\u001b[49m\u001b[38;5;241;43m.\u001b[39;49m\u001b[43mmain\u001b[49m\u001b[43m(\u001b[49m\u001b[43mpath_list\u001b[49m\u001b[43m,\u001b[49m\u001b[43m \u001b[49m\u001b[43mirr_file\u001b[49m\u001b[43m)\u001b[49m\n",
      "File \u001b[1;32m~\\Desktop\\EMIT\\preprocess.py:70\u001b[0m, in \u001b[0;36mmain\u001b[1;34m(file_path_list, irr_path)\u001b[0m\n\u001b[0;32m     68\u001b[0m \u001b[38;5;28;01mdef\u001b[39;00m \u001b[38;5;21mmain\u001b[39m(file_path_list: \u001b[38;5;28mlist\u001b[39m, irr_path: \u001b[38;5;28mstr\u001b[39m):\n\u001b[0;32m     69\u001b[0m     rad \u001b[38;5;241m=\u001b[39m load_info(file_path_list)[\u001b[38;5;241m0\u001b[39m]\n\u001b[1;32m---> 70\u001b[0m     irr \u001b[38;5;241m=\u001b[39m \u001b[43mget_irr\u001b[49m\u001b[43m(\u001b[49m\u001b[43mfile_path_list\u001b[49m\u001b[43m[\u001b[49m\u001b[38;5;241;43m2\u001b[39;49m\u001b[43m]\u001b[49m\u001b[43m,\u001b[49m\u001b[43m \u001b[49m\u001b[43mirr_path\u001b[49m\u001b[43m)\u001b[49m\n\u001b[0;32m     71\u001b[0m     zen \u001b[38;5;241m=\u001b[39m load_info(file_path_list)[\u001b[38;5;241m1\u001b[39m]\n\u001b[0;32m     73\u001b[0m     TOA_refl \u001b[38;5;241m=\u001b[39m calc_TOA_refl(rad, irr, zen)\n",
      "File \u001b[1;32m~\\Desktop\\EMIT\\preprocess.py:41\u001b[0m, in \u001b[0;36mget_irr\u001b[1;34m(rad_path, irr_path)\u001b[0m\n\u001b[0;32m     38\u001b[0m \u001b[38;5;28;01mdef\u001b[39;00m \u001b[38;5;21mget_irr\u001b[39m(rad_path: \u001b[38;5;28mstr\u001b[39m, irr_path: \u001b[38;5;28mstr\u001b[39m):\n\u001b[0;32m     39\u001b[0m     rad_header \u001b[38;5;241m=\u001b[39m envi\u001b[38;5;241m.\u001b[39mopen(rad_path)\n\u001b[1;32m---> 41\u001b[0m     wl \u001b[38;5;241m=\u001b[39m \u001b[43mrad_header\u001b[49m\u001b[38;5;241;43m.\u001b[39;49m\u001b[43mmetadata\u001b[49m\u001b[43m[\u001b[49m\u001b[38;5;124;43m'\u001b[39;49m\u001b[38;5;124;43mwavelength\u001b[39;49m\u001b[38;5;124;43m'\u001b[39;49m\u001b[43m]\u001b[49m\n\u001b[0;32m     42\u001b[0m     \u001b[38;5;28;01mfor\u001b[39;00m i \u001b[38;5;129;01min\u001b[39;00m \u001b[38;5;28mrange\u001b[39m(\u001b[38;5;28mlen\u001b[39m(wl)):\n\u001b[0;32m     43\u001b[0m         wl[i] \u001b[38;5;241m=\u001b[39m \u001b[38;5;28mfloat\u001b[39m(wl[i])\n",
      "\u001b[1;31mKeyError\u001b[0m: 'wavelength'"
     ]
    }
   ],
   "source": [
    "TOA_refl = preprocess.main(path_list, irr_file)"
   ]
  },
  {
   "cell_type": "code",
   "execution_count": 22,
   "id": "29ebe6bf-4576-45d6-bc33-316897c85cf9",
   "metadata": {},
   "outputs": [
    {
     "ename": "NameError",
     "evalue": "name 'TOA_refl' is not defined",
     "output_type": "error",
     "traceback": [
      "\u001b[1;31m---------------------------------------------------------------------------\u001b[0m",
      "\u001b[1;31mNameError\u001b[0m                                 Traceback (most recent call last)",
      "Cell \u001b[1;32mIn[22], line 1\u001b[0m\n\u001b[1;32m----> 1\u001b[0m \u001b[43mTOA_refl\u001b[49m\u001b[38;5;241m.\u001b[39mshape\n",
      "\u001b[1;31mNameError\u001b[0m: name 'TOA_refl' is not defined"
     ]
    }
   ],
   "source": [
    "TOA_refl.shape"
   ]
  },
  {
   "cell_type": "code",
   "execution_count": 12,
   "id": "37f5765f-be7a-45fa-957e-a49858252ac5",
   "metadata": {},
   "outputs": [],
   "source": [
    "plt.plot(TOA_refl[750,750,:])\n",
    "plt.show()"
   ]
  },
  {
   "cell_type": "code",
   "execution_count": null,
   "id": "084be9d2-7b0c-4208-a1f8-6f2dc1e44a37",
   "metadata": {},
   "outputs": [],
   "source": []
  }
 ],
 "metadata": {
  "kernelspec": {
   "display_name": "Python 3 (ipykernel)",
   "language": "python",
   "name": "python3"
  },
  "language_info": {
   "codemirror_mode": {
    "name": "ipython",
    "version": 3
   },
   "file_extension": ".py",
   "mimetype": "text/x-python",
   "name": "python",
   "nbconvert_exporter": "python",
   "pygments_lexer": "ipython3",
   "version": "3.10.12"
  }
 },
 "nbformat": 4,
 "nbformat_minor": 5
}
