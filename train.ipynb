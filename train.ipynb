{
 "cells": [
  {
   "cell_type": "code",
   "execution_count": 125,
   "id": "f687d0d4-e650-4c1a-a22c-bcb4cf365eb2",
   "metadata": {},
   "outputs": [],
   "source": [
    "import netCDF4 as nc\n",
    "import xarray as xr\n",
    "from geoarray import GeoArray\n",
    "from spectral.io import envi\n",
    "import matplotlib.pyplot as plt\n",
    "import numpy as np\n",
    "from isofit.core.common import resample_spectrum\n",
    "import os\n",
    "import isofit\n",
    "from isofit.core.sunposition import sunpos\n",
    "import holoviews as hv\n",
    "import hvplot.xarray\n",
    "from datetime import datetime"
   ]
  },
  {
   "cell_type": "code",
   "execution_count": 126,
   "id": "41fdd8a9-523e-416c-92cc-c23e91b59bac",
   "metadata": {},
   "outputs": [],
   "source": [
    "obs_header = envi.open('../emit_obs_loc/emit20230321t150833_o08010_s000_l1b_obs_b0106_v01.hdr')\n",
    "location_header = envi.open('../emit_obs_loc/emit20230321t150833_o08010_s000_l1b_loc_b0106_v01.hdr')\n",
    "rad_header = envi.open('../west_africa_scene/wa_unortho/EMIT_L1B_RAD_001_20230321T150833_2308010_003_radiance.hdr')\n",
    "mask_header = envi.open('../west_africa_scene/wa_unortho/EMIT_L2A_MASK_001_20230321T150833_2308010_003_mask.hdr')\n",
    "\n",
    "obs_data = obs_header.open_memmap(interleave = 'bip')\n",
    "loc_data = location_header.open_memmap(interleave = 'bip')\n",
    "rad_data = rad_header.open_memmap(interleave = 'bip')\n",
    "mask_data = mask_header.open_memmap(interleave = 'bip')"
   ]
  },
  {
   "cell_type": "code",
   "execution_count": 127,
   "id": "5a5b9ee3-72a4-40b4-8611-a9e02131e4a3",
   "metadata": {},
   "outputs": [
    {
     "name": "stdout",
     "output_type": "stream",
     "text": [
      "shape of latitude:  (1280, 1242)\n",
      "shape of longitude:  (1280, 1242)\n",
      "shape of elevation:  (1280, 1242)\n",
      "shape of zenith:  ()\n",
      "shape of earth-sun distance (1280, 1242)\n",
      "shape of water vapor:  (1280, 1242)\n"
     ]
    }
   ],
   "source": [
    "lat = loc_data[:,:,0]\n",
    "lon = loc_data[:,:,1]\n",
    "elev = loc_data[:,:,2]\n",
    "zenith = obs_data[:,:,4]\n",
    "zen = np.average(zenith)\n",
    "es_distance = obs_data[:,:,10]\n",
    "water_vapor = mask_data[:,:,6]\n",
    "\n",
    "print('shape of latitude: ', lat.shape)\n",
    "print('shape of longitude: ', lon.shape)\n",
    "print('shape of elevation: ', elev.shape)\n",
    "print('shape of zenith: ', zen.shape)\n",
    "print('shape of earth-sun distance', es_distance.shape)\n",
    "print('shape of water vapor: ', water_vapor.shape)"
   ]
  },
  {
   "cell_type": "code",
   "execution_count": 128,
   "id": "8927ea72-14ee-4bd1-92ad-bd64a9a080da",
   "metadata": {},
   "outputs": [
    {
     "name": "stdout",
     "output_type": "stream",
     "text": [
      "path to irr file: C:\\Users\\vpatro\\Desktop\\isofit\\isofit\\..\\data\\kurudz_0.1nm.dat\n",
      "shape of wavelength:  (285,)\n",
      "shape of fwhm:  (285,)\n",
      "shape of irradiance:  (285,)\n",
      "shape of radiance:  (1280, 1242, 285)\n"
     ]
    }
   ],
   "source": [
    "wl = rad_header.metadata['wavelength']\n",
    "for i in range(len(wl)):\n",
    "    wl[i] = float(wl[i])\n",
    "wl = np.array(wl)\n",
    "\n",
    "fwhm = rad_header.metadata['fwhm']\n",
    "for i in range(len(fwhm)):\n",
    "    fwhm[i] = float(fwhm[i])\n",
    "fwhm = np.array(fwhm)\n",
    "\n",
    "# will need new irradiance file\n",
    "irr_file = os.path.join(\n",
    "    os.path.dirname(isofit.__file__), \"..\", \"data\", \"kurudz_0.1nm.dat\") # same for anything TOA, pure solar irradiance\n",
    "\n",
    "print('path to irr file:', irr_file)\n",
    "\n",
    "\n",
    "irr_wl, irr = np.loadtxt(irr_file, comments=\"#\").T\n",
    "irr = irr / 10  # convert to uW cm-2 sr-1 nm-1\n",
    "irr_resamp = resample_spectrum(irr, irr_wl, wl, fwhm)\n",
    "irr_resamp = np.array(irr_resamp, dtype=np.float32)\n",
    "irr = irr_resamp\n",
    "\n",
    "print('shape of wavelength: ', wl.shape)\n",
    "print('shape of fwhm: ', fwhm.shape)\n",
    "print('shape of irradiance: ', irr.shape)\n",
    "print('shape of radiance: ', rad_data.shape)\n"
   ]
  },
  {
   "cell_type": "code",
   "execution_count": 129,
   "id": "23f68304-806a-4bb9-8ab2-a63c1481463f",
   "metadata": {},
   "outputs": [
    {
     "name": "stdout",
     "output_type": "stream",
     "text": [
      "2023-03-21 15:08:33\n"
     ]
    }
   ],
   "source": [
    "flight_name = rad_header.metadata['flight_line'][0]\n",
    "\n",
    "year = flight_name[4:8]\n",
    "month = flight_name[8:10]\n",
    "date = flight_name[10:12]\n",
    "hour = flight_name[13:15]\n",
    "minute = flight_name[15:17]\n",
    "second = flight_name[17:19]\n",
    "\n",
    "dt_string = ''\n",
    "dt_string = dt_string + date + '/' + month + '/' + year + ' ' + hour + ':' + minute + ':' + second\n",
    "\n",
    "dt = datetime.strptime(dt_string, \"%d/%m/%Y %H:%M:%S\")\n",
    "print(dt)"
   ]
  },
  {
   "cell_type": "code",
   "execution_count": 131,
   "id": "5a3e477f-610c-4b80-a87f-c5eb17ae79cd",
   "metadata": {},
   "outputs": [
    {
     "data": {
      "text/plain": [
       "(1280, 1242, 285)"
      ]
     },
     "execution_count": 131,
     "metadata": {},
     "output_type": "execute_result"
    }
   ],
   "source": [
    "rho = (np.pi / np.cos(zen)) * rad_data / irr[np.newaxis, np.newaxis, :]\n",
    "rho.shape"
   ]
  },
  {
   "cell_type": "code",
   "execution_count": null,
   "id": "997f1867-c6fe-4832-a02c-2c7545c0769d",
   "metadata": {},
   "outputs": [],
   "source": []
  }
 ],
 "metadata": {
  "kernelspec": {
   "display_name": "Python 3 (ipykernel)",
   "language": "python",
   "name": "python3"
  },
  "language_info": {
   "codemirror_mode": {
    "name": "ipython",
    "version": 3
   },
   "file_extension": ".py",
   "mimetype": "text/x-python",
   "name": "python",
   "nbconvert_exporter": "python",
   "pygments_lexer": "ipython3",
   "version": "3.10.12"
  }
 },
 "nbformat": 4,
 "nbformat_minor": 5
}
