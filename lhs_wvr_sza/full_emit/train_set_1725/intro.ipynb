{
 "cells": [
  {
   "cell_type": "code",
   "execution_count": 1,
   "id": "5396417a-5345-4a66-a1ed-bef34d2f9e66",
   "metadata": {},
   "outputs": [],
   "source": [
    "import numpy as np\n",
    "import pandas as pd\n",
    "import matplotlib.pyplot as plt\n",
    "import pickle\n",
    "from scipy.stats import gaussian_kde\n",
    "from sklearn.metrics import mean_squared_error\n",
    "import os\n",
    "import sys\n",
    "\n",
    "parent_dir = os.path.dirname(os.path.realpath('../../analysis'))\n",
    "\n",
    "# Add the parent directory to sys.path\n",
    "sys.path.append(parent_dir)\n",
    "\n",
    "# Import the module from the parent directory\n",
    "import analysis.model_assessment\n",
    "import analysis.train_data_analysis"
   ]
  },
  {
   "cell_type": "code",
   "execution_count": 2,
   "id": "98531e0c-8a87-4e3b-82d3-7235a0524700",
   "metadata": {},
   "outputs": [
    {
     "name": "stdout",
     "output_type": "stream",
     "text": [
      "(1725, 1242, 285)\n",
      "(1725, 1242)\n",
      "(1689, 1242, 285)\n",
      "(1689, 1242)\n"
     ]
    }
   ],
   "source": [
    "path = '../../../train_sets/munged.npz'\n",
    "data = np.load(path)\n",
    "refls = data['output_rfl']\n",
    "wv = data['output_wv']\n",
    "fids = data['output_idx']\n",
    "\n",
    "values, counts = np.unique(fids, return_counts=True)\n",
    "scenes = np.split(refls, 1725)\n",
    "wv_by_scene = np.split(wv, 1725)\n",
    "scenes = np.array(scenes)\n",
    "wv_by_scene = np.array(wv_by_scene)\n",
    "\n",
    "print(scenes.shape)\n",
    "print(wv_by_scene.shape)\n",
    "\n",
    "bad = []\n",
    "for i in range(wv_by_scene.shape[0]):\n",
    "    scene = wv_by_scene[i].copy()\n",
    "    if scene[np.where((scene > 6) | (scene < 0))].shape[0] != 0:\n",
    "        bad.append(i)\n",
    "\n",
    "wv_by_scene = np.delete(wv_by_scene, bad, axis = 0)\n",
    "scenes = np.delete(scenes, bad, axis = 0)\n",
    "print(scenes.shape)\n",
    "print(wv_by_scene.shape)"
   ]
  },
  {
   "cell_type": "code",
   "execution_count": null,
   "id": "6af60d4b-5555-4570-882f-5857394b9cb9",
   "metadata": {},
   "outputs": [],
   "source": []
  }
 ],
 "metadata": {
  "kernelspec": {
   "display_name": "Python 3 (ipykernel)",
   "language": "python",
   "name": "python3"
  },
  "language_info": {
   "codemirror_mode": {
    "name": "ipython",
    "version": 3
   },
   "file_extension": ".py",
   "mimetype": "text/x-python",
   "name": "python",
   "nbconvert_exporter": "python",
   "pygments_lexer": "ipython3",
   "version": "3.10.12"
  }
 },
 "nbformat": 4,
 "nbformat_minor": 5
}
