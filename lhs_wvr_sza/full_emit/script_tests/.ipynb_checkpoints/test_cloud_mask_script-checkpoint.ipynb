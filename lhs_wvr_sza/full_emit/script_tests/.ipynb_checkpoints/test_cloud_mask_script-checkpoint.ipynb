{
 "cells": [
  {
   "cell_type": "code",
   "execution_count": 1,
   "id": "eb2a062f-89d0-45c2-b914-07f7c7293410",
   "metadata": {},
   "outputs": [],
   "source": [
    "import numpy as np\n",
    "import pandas as pd\n",
    "import matplotlib.pyplot as plt\n",
    "import pickle\n",
    "from scipy.stats import gaussian_kde\n",
    "from sklearn.metrics import mean_squared_error\n",
    "import os\n",
    "import sys\n",
    "import math\n",
    "import seaborn as sns\n",
    "\n",
    "import analysis.model_assessment\n",
    "import analysis.train_data_analysis\n",
    "from analysis.model_assessment import *\n",
    "from analysis.per_scene_scatter import *\n",
    "from scipy.stats import linregress"
   ]
  },
  {
   "cell_type": "code",
   "execution_count": 37,
   "id": "5b5cbbe8-74cb-45ef-8afd-c175abd9ddc7",
   "metadata": {},
   "outputs": [
    {
     "name": "stdout",
     "output_type": "stream",
     "text": [
      "(1285, 1242, 285)\n",
      "(1285, 1242)\n",
      "(1254, 1242, 285)\n",
      "(1254, 1242)\n",
      "(1254, 1242)\n",
      "scenes output:  (1254, 1242, 285)\n",
      "wv output:  (1254, 1242)\n",
      "scenes reshape:  (1301254, 285)\n",
      "wv:  (1301254,)\n"
     ]
    }
   ],
   "source": [
    "data = np.load('../munged_1285_cloud_mask.npz')\n",
    "refls = data['output_rfl']\n",
    "wv = data['output_wv']\n",
    "fids = data['output_idx']\n",
    "cloud_mask = data['output_cloud_flags']\n",
    "\n",
    "\n",
    "\n",
    "values, counts = np.unique(fids, return_counts=True)\n",
    "scenes = np.split(refls, 1285)\n",
    "wv_by_scene = np.split(wv, 1285)\n",
    "scenes = np.array(scenes)\n",
    "wv_by_scene = np.array(wv_by_scene)\n",
    "\n",
    "print(scenes.shape)\n",
    "print(wv_by_scene.shape)\n",
    "\n",
    "# Getting rid of unrealistic crosstrack \n",
    "bad = []\n",
    "for i in range(wv_by_scene.shape[0]):\n",
    "    scene = wv_by_scene[i].copy()\n",
    "    if scene[np.where((scene > 6) | (scene < 0))].shape[0] != 0:\n",
    "        bad.append(i)\n",
    "\n",
    "wv_by_scene = np.delete(wv_by_scene, bad, axis = 0)\n",
    "scenes = np.delete(scenes, bad, axis = 0)\n",
    "cloud_mask = np.delete(cloud_mask, bad, axis = 0)\n",
    "\n",
    "print(scenes.shape)\n",
    "print(wv_by_scene.shape)\n",
    "print(cloud_mask.shape)\n",
    "\n",
    "scenes_resh = scenes.reshape((scenes.shape[0]*scenes.shape[1], scenes.shape[2]))\n",
    "cloud_mask_resh = cloud_mask.flatten()\n",
    "wv_resh = wv_by_scene.flatten()\n",
    "scenes_output = np.zeros(scenes.shape)\n",
    "scenes_output[:] = np.nan\n",
    "wv_output = np.zeros(wv_by_scene.shape)\n",
    "wv_output[:] = np.nan\n",
    "\n",
    "print('scenes output: ', scenes_output.shape)\n",
    "\n",
    "scenes_resh = scenes_resh[cloud_mask_resh == 0, :]\n",
    "wv_by_scene = wv_by_scene[cloud_mask == 0]\n",
    "\n",
    "scenes_output[cloud_mask == 0, :] = scenes_resh\n",
    "wv_output[cloud_mask == 0] = wv_by_scene\n",
    "\n",
    "print('wv output: ', wv_output.shape)\n",
    "\n",
    "print('scenes reshape: ', scenes_resh.shape) # goes to the model\n",
    "print('wv: ' , wv_by_scene.flatten().shape) # labeled data for the model and test set\n",
    "\n"
   ]
  },
  {
   "cell_type": "code",
   "execution_count": 38,
   "id": "695fc057-4f33-4a3f-ba42-afb3ac07d940",
   "metadata": {},
   "outputs": [
    {
     "data": {
      "text/plain": [
       "array([[0., 0., 0., ..., 0., 0., 0.],\n",
       "       [0., 0., 0., ..., 0., 0., 0.],\n",
       "       [0., 0., 0., ..., 0., 0., 0.],\n",
       "       ...,\n",
       "       [0., 0., 0., ..., 0., 0., 0.],\n",
       "       [1., 1., 1., ..., 0., 0., 0.],\n",
       "       [1., 1., 1., ..., 1., 1., 1.]])"
      ]
     },
     "execution_count": 38,
     "metadata": {},
     "output_type": "execute_result"
    }
   ],
   "source": [
    "cloud_mask"
   ]
  },
  {
   "cell_type": "code",
   "execution_count": 39,
   "id": "72d78d80-af16-4793-894a-d7a24d212579",
   "metadata": {},
   "outputs": [
    {
     "data": {
      "text/plain": [
       "array([[1.50906026, 1.50907362, 1.50909722, ..., 1.66015291, 1.66326976,\n",
       "        1.66501236],\n",
       "       [1.78841186, 1.78867328, 1.78855801, ..., 1.78433836, 1.78593075,\n",
       "        1.78687382],\n",
       "       [1.76582718, 1.76552701, 1.76496899, ..., 1.80048525, 1.80299723,\n",
       "        1.8045243 ],\n",
       "       ...,\n",
       "       [5.84847593, 5.84667063, 5.84392118, ..., 3.18618727, 3.21626163,\n",
       "        3.23325849],\n",
       "       [       nan,        nan,        nan, ..., 5.69170713, 5.72420835,\n",
       "        5.742136  ],\n",
       "       [       nan,        nan,        nan, ...,        nan,        nan,\n",
       "               nan]])"
      ]
     },
     "execution_count": 39,
     "metadata": {},
     "output_type": "execute_result"
    }
   ],
   "source": [
    "wv_output"
   ]
  },
  {
   "cell_type": "code",
   "execution_count": 40,
   "id": "586041c3-5920-41c8-83fe-fabcd4c918ce",
   "metadata": {},
   "outputs": [
    {
     "data": {
      "text/plain": [
       "array([[0.20281757, 0.20277312, 0.20265527, ..., 0.21301824, 0.21221894,\n",
       "        0.21221669],\n",
       "       [0.20662118, 0.20645121, 0.20692374, ..., 0.20872357, 0.20946708,\n",
       "        0.20953585],\n",
       "       [0.21582541, 0.21606272, 0.214524  , ..., 0.21342817, 0.21336432,\n",
       "        0.21248835],\n",
       "       ...,\n",
       "       [0.20250189, 0.20654593, 0.20588894, ..., 0.23707002, 0.23967285,\n",
       "        0.25061804],\n",
       "       [       nan,        nan,        nan, ..., 0.18614188, 0.18517491,\n",
       "        0.18838981],\n",
       "       [       nan,        nan,        nan, ...,        nan,        nan,\n",
       "               nan]])"
      ]
     },
     "execution_count": 40,
     "metadata": {},
     "output_type": "execute_result"
    }
   ],
   "source": [
    "scenes_output_reshaped[:,:,0]"
   ]
  },
  {
   "cell_type": "code",
   "execution_count": null,
   "id": "9d38f70e-9aad-41e7-957f-5436456140ca",
   "metadata": {},
   "outputs": [],
   "source": []
  }
 ],
 "metadata": {
  "kernelspec": {
   "display_name": "Python 3 (ipykernel)",
   "language": "python",
   "name": "python3"
  },
  "language_info": {
   "codemirror_mode": {
    "name": "ipython",
    "version": 3
   },
   "file_extension": ".py",
   "mimetype": "text/x-python",
   "name": "python",
   "nbconvert_exporter": "python",
   "pygments_lexer": "ipython3",
   "version": "3.10.12"
  }
 },
 "nbformat": 4,
 "nbformat_minor": 5
}
