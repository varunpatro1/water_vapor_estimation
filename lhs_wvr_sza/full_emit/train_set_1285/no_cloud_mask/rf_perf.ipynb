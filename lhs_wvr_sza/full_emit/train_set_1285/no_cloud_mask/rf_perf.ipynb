{
 "cells": [
  {
   "cell_type": "code",
   "execution_count": 1,
   "id": "07c658cc-edbf-4712-ae4d-8b24845ef0cb",
   "metadata": {},
   "outputs": [],
   "source": [
    "import numpy as np\n",
    "import pandas as pd\n",
    "import matplotlib.pyplot as plt\n",
    "import pickle\n",
    "from scipy.stats import gaussian_kde\n",
    "from sklearn.metrics import mean_squared_error\n",
    "import os\n",
    "import sys\n",
    "\n",
    "parent_dir = os.path.dirname(os.path.realpath('../../analysis'))\n",
    "\n",
    "# Add the parent directory to sys.path\n",
    "sys.path.append(parent_dir)\n",
    "\n",
    "# Import the module from the parent directory\n",
    "import analysis.model_assessment\n",
    "import analysis.train_data_analysis"
   ]
  },
  {
   "cell_type": "code",
   "execution_count": null,
   "id": "9cb4a863-9cf1-4c79-bcba-5224ee618747",
   "metadata": {},
   "outputs": [],
   "source": [
    "path = '../../../train_sets/first_run_1725/all_dt_6_40.npz'\n",
    "data = np.load(path)\n",
    "y_pred, y_test, y_train = data['arr_0'], data['arr_1'], data['arr_2']\n",
    "analysis.model_assessment.plot_range_scatter(y_test, y_pred, path, 'absolute')"
   ]
  }
 ],
 "metadata": {
  "kernelspec": {
   "display_name": "Python 3 (ipykernel)",
   "language": "python",
   "name": "python3"
  },
  "language_info": {
   "codemirror_mode": {
    "name": "ipython",
    "version": 3
   },
   "file_extension": ".py",
   "mimetype": "text/x-python",
   "name": "python",
   "nbconvert_exporter": "python",
   "pygments_lexer": "ipython3",
   "version": "3.10.12"
  }
 },
 "nbformat": 4,
 "nbformat_minor": 5
}
