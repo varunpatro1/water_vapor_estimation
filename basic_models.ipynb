{
 "cells": [
  {
   "cell_type": "code",
   "execution_count": 39,
   "id": "8bfc6d6d-3cde-487f-9f9d-8739fa919ef4",
   "metadata": {},
   "outputs": [],
   "source": [
    "import netCDF4 as nc\n",
    "import xarray as xr\n",
    "from geoarray import GeoArray\n",
    "from spectral.io import envi\n",
    "import matplotlib.pyplot as plt\n",
    "import numpy as np\n",
    "from isofit.core.common import resample_spectrum\n",
    "import os\n",
    "import isofit\n",
    "from isofit.core.sunposition import sunpos\n",
    "import holoviews as hv\n",
    "import hvplot.xarray\n",
    "from datetime import datetime"
   ]
  },
  {
   "cell_type": "code",
   "execution_count": 40,
   "id": "045da145-a7e1-40fb-9f43-6a36b1e2d70e",
   "metadata": {},
   "outputs": [],
   "source": [
    "# order: west africa, gobi desert, west india, north africa, arabian desert\n",
    "obs_paths = ['../emit_obs_loc/emit20230321t150833_o08010_s000_l1b_obs_b0106_v01.hdr', \n",
    "             '../gobi_desert_scene/EMIT_L1B_OBS_001_20230603T080502_2315406_055_obs.hdr', \n",
    "            '../west_india_scene/EMIT_L1B_OBS_001_20230217T094600_2304806_029_obs.hdr', \n",
    "            '../north_africa_scene/EMIT_L1B_OBS_001_20230214T133958_2304509_008_obs.hdr',\n",
    "            '../arabian_desert_scene/EMIT_L1B_OBS_001_20230424T091202_2311406_031_obs.hdr']\n",
    "rad_paths = ['../west_africa_scene/wa_unortho/EMIT_L1B_RAD_001_20230321T150833_2308010_003_radiance.hdr', \n",
    "             '../gobi_desert_scene/EMIT_L1B_RAD_001_20230603T080502_2315406_055_radiance.hdr', \n",
    "            '../west_india_scene/EMIT_L1B_RAD_001_20230217T094600_2304806_029_radiance.hdr', \n",
    "            '../north_africa_scene/EMIT_L1B_RAD_001_20230214T133958_2304509_008_radiance.hdr',\n",
    "            '../arabian_desert_scene/EMIT_L1B_RAD_001_20230424T091202_2311406_031_radiance.hdr']\n",
    "mask_paths = ['../west_africa_scene/wa_unortho/EMIT_L2A_MASK_001_20230321T150833_2308010_003_mask.hdr', \n",
    "             '../gobi_desert_scene/EMIT_L2A_MASK_001_20230603T080502_2315406_055_mask.hdr', \n",
    "            '../west_india_scene/EMIT_L2A_MASK_001_20230217T094600_2304806_029_mask.hdr',  \n",
    "            '../north_africa_scene/EMIT_L2A_MASK_001_20230214T133958_2304509_008_mask.hdr',\n",
    "            '../arabian_desert_scene/EMIT_L2A_MASK_001_20230424T091202_2311406_031_mask.hdr']\n",
    "\n",
    "paths = []\n",
    "paths.append(obs_paths)\n",
    "paths.append(rad_paths)\n",
    "paths.append(mask_paths)\n",
    "\n",
    "\n",
    "irr_file = os.path.join(os.path.dirname(isofit.__file__), \"..\", \"data\", \"kurudz_0.1nm.dat\")"
   ]
  },
  {
   "cell_type": "code",
   "execution_count": 41,
   "id": "df60603e-17a4-42b0-9f0e-a64311ec7c03",
   "metadata": {},
   "outputs": [],
   "source": [
    "west_africa_paths = []\n",
    "gobi_desert_paths = []\n",
    "west_india_paths = []\n",
    "north_africa_paths = []\n",
    "arabian_desert_paths = []\n",
    "\n",
    "scene_paths = []\n",
    "scene_paths.append(west_africa_paths)\n",
    "scene_paths.append(gobi_desert_paths)\n",
    "scene_paths.append(west_india_paths)\n",
    "scene_paths.append(north_africa_paths)\n",
    "scene_paths.append(arabian_desert_paths)\n",
    "\n",
    "\n",
    "for i in range(5):\n",
    "    for j in range(3):\n",
    "        scene_paths[i].append(paths[j][i])    "
   ]
  },
  {
   "cell_type": "code",
   "execution_count": 42,
   "id": "80c58601-68db-4beb-9791-9183863861cc",
   "metadata": {
    "scrolled": true
   },
   "outputs": [
    {
     "data": {
      "text/plain": [
       "[['../emit_obs_loc/emit20230321t150833_o08010_s000_l1b_obs_b0106_v01.hdr',\n",
       "  '../west_africa_scene/wa_unortho/EMIT_L1B_RAD_001_20230321T150833_2308010_003_radiance.hdr',\n",
       "  '../west_africa_scene/wa_unortho/EMIT_L2A_MASK_001_20230321T150833_2308010_003_mask.hdr'],\n",
       " ['../gobi_desert_scene/EMIT_L1B_OBS_001_20230603T080502_2315406_055_obs.hdr',\n",
       "  '../gobi_desert_scene/EMIT_L1B_RAD_001_20230603T080502_2315406_055_radiance.hdr',\n",
       "  '../gobi_desert_scene/EMIT_L2A_MASK_001_20230603T080502_2315406_055_mask.hdr'],\n",
       " ['../west_india_scene/EMIT_L1B_OBS_001_20230217T094600_2304806_029_obs.hdr',\n",
       "  '../west_india_scene/EMIT_L1B_RAD_001_20230217T094600_2304806_029_radiance.hdr',\n",
       "  '../west_india_scene/EMIT_L2A_MASK_001_20230217T094600_2304806_029_mask.hdr'],\n",
       " ['../north_africa_scene/EMIT_L1B_OBS_001_20230214T133958_2304509_008_obs.hdr',\n",
       "  '../north_africa_scene/EMIT_L1B_RAD_001_20230214T133958_2304509_008_radiance.hdr',\n",
       "  '../north_africa_scene/EMIT_L2A_MASK_001_20230214T133958_2304509_008_mask.hdr'],\n",
       " ['../arabian_desert_scene/EMIT_L1B_OBS_001_20230424T091202_2311406_031_obs.hdr',\n",
       "  '../arabian_desert_scene/EMIT_L1B_RAD_001_20230424T091202_2311406_031_radiance.hdr',\n",
       "  '../arabian_desert_scene/EMIT_L2A_MASK_001_20230424T091202_2311406_031_mask.hdr']]"
      ]
     },
     "execution_count": 42,
     "metadata": {},
     "output_type": "execute_result"
    }
   ],
   "source": [
    "scene_paths"
   ]
  },
  {
   "cell_type": "code",
   "execution_count": null,
   "id": "be0c79e0-45f6-4d2a-8852-99c0d9eb5d2a",
   "metadata": {},
   "outputs": [
    {
     "name": "stdout",
     "output_type": "stream",
     "text": [
      "scene:  0\n"
     ]
    }
   ],
   "source": [
    "import preprocess\n",
    "TOA_refls = []\n",
    "water_vapor_vals = []\n",
    "\n",
    "for i in range(5):\n",
    "    print('scene: ', i)\n",
    "    TOA_refls.append(preprocess.main(scene_paths[i], irr_file))\n",
    "    water_vapor_vals.append(preprocess.get_water_vapor(scene_paths[i]))\n",
    "    "
   ]
  },
  {
   "cell_type": "code",
   "execution_count": 30,
   "id": "44843379-528f-439d-adf0-d22efd81b416",
   "metadata": {},
   "outputs": [
    {
     "name": "stdout",
     "output_type": "stream",
     "text": [
      "5\n",
      "5\n"
     ]
    }
   ],
   "source": [
    "print(len(TOA_refls))\n",
    "print(len(water_vapor_vals))"
   ]
  },
  {
   "cell_type": "code",
   "execution_count": 31,
   "id": "94f30d01-5ff2-4259-ad2c-95d1caf05cc2",
   "metadata": {},
   "outputs": [
    {
     "name": "stdout",
     "output_type": "stream",
     "text": [
      "(1280, 1242, 285)\n",
      "(1280, 1242, 285)\n",
      "(1376, 1242, 285)\n",
      "(1280, 1242, 285)\n",
      "(1280, 1242, 285)\n",
      "(1888, 1912)\n",
      "(1280, 1242)\n",
      "(1376, 1242)\n",
      "(1280, 1242)\n",
      "(1280, 1242)\n"
     ]
    }
   ],
   "source": [
    "print(TOA_refls[0].shape)\n",
    "print(TOA_refls[1].shape)\n",
    "print(TOA_refls[2].shape)\n",
    "print(TOA_refls[3].shape)\n",
    "print(TOA_refls[4].shape)\n",
    "print(water_vapor_vals[0].shape)\n",
    "print(water_vapor_vals[1].shape)\n",
    "print(water_vapor_vals[2].shape)\n",
    "print(water_vapor_vals[3].shape)\n",
    "print(water_vapor_vals[4].shape)"
   ]
  },
  {
   "cell_type": "code",
   "execution_count": null,
   "id": "1a847614-1cd6-4ede-bb7d-7ec2d43d7cdc",
   "metadata": {},
   "outputs": [],
   "source": []
  }
 ],
 "metadata": {
  "kernelspec": {
   "display_name": "Python 3 (ipykernel)",
   "language": "python",
   "name": "python3"
  },
  "language_info": {
   "codemirror_mode": {
    "name": "ipython",
    "version": 3
   },
   "file_extension": ".py",
   "mimetype": "text/x-python",
   "name": "python",
   "nbconvert_exporter": "python",
   "pygments_lexer": "ipython3",
   "version": "3.10.12"
  }
 },
 "nbformat": 4,
 "nbformat_minor": 5
}
