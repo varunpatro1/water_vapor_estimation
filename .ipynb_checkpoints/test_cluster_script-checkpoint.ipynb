{
 "cells": [
  {
   "cell_type": "code",
   "execution_count": 1,
   "id": "6a9544e3-ca8a-407f-af0c-1351df3d13c9",
   "metadata": {},
   "outputs": [],
   "source": [
    "import numpy as np\n",
    "import analysis.train_data_analysis \n",
    "import analysis.model_assessment\n",
    "import run_models\n",
    "import matplotlibpytplot as plt"
   ]
  },
  {
   "cell_type": "code",
   "execution_count": 2,
   "id": "e5be4dbb-cd03-4d40-9354-34038e1b70d6",
   "metadata": {},
   "outputs": [],
   "source": [
    "run_models.main()"
   ]
  },
  {
   "cell_type": "code",
   "execution_count": 12,
   "id": "37793da0-b918-4bfb-bce8-aef27494852c",
   "metadata": {},
   "outputs": [
    {
     "name": "stdout",
     "output_type": "stream",
     "text": [
      "pred shape:  (24840,)\n",
      "test shape:  (24840,)\n",
      "train shape:  (99360,)\n"
     ]
    }
   ],
   "source": [
    "path = 'model_outdir/100_dt_6.npz'\n",
    "data = np.load(path)\n",
    "y_pred = data['arr_0']\n",
    "y_test = data['arr_1']\n",
    "y_train = data['arr_2']\n",
    "\n",
    "print('pred shape: ', y_pred.shape)\n",
    "print('test shape: ', y_test.shape)\n",
    "print('train shape: ', y_train.shape)"
   ]
  },
  {
   "cell_type": "code",
   "execution_count": 13,
   "id": "67e16f49-5788-4159-a4b2-c8753ebf7de2",
   "metadata": {},
   "outputs": [
    {
     "ename": "NameError",
     "evalue": "name 'plt' is not defined",
     "output_type": "error",
     "traceback": [
      "\u001b[1;31m---------------------------------------------------------------------------\u001b[0m",
      "\u001b[1;31mNameError\u001b[0m                                 Traceback (most recent call last)",
      "Cell \u001b[1;32mIn[13], line 4\u001b[0m\n\u001b[0;32m      2\u001b[0m xy_model \u001b[38;5;241m=\u001b[39m np\u001b[38;5;241m.\u001b[39mvstack([y_test, y_pred])\n\u001b[0;32m      3\u001b[0m z_model \u001b[38;5;241m=\u001b[39m gaussian_kde(xy_model)(xy_model)\n\u001b[1;32m----> 4\u001b[0m \u001b[43mplt\u001b[49m\u001b[38;5;241m.\u001b[39mscatter(y_test, y_pred, c\u001b[38;5;241m=\u001b[39mz_model, s\u001b[38;5;241m=\u001b[39m\u001b[38;5;241m1\u001b[39m, cmap\u001b[38;5;241m=\u001b[39m\u001b[38;5;124m\"\u001b[39m\u001b[38;5;124mjet\u001b[39m\u001b[38;5;124m\"\u001b[39m)\n\u001b[0;32m      5\u001b[0m plt\u001b[38;5;241m.\u001b[39mcolorbar()\n\u001b[0;32m      6\u001b[0m plt\u001b[38;5;241m.\u001b[39mxlabel(\u001b[38;5;124m'\u001b[39m\u001b[38;5;124mActual WV\u001b[39m\u001b[38;5;124m'\u001b[39m)\n",
      "\u001b[1;31mNameError\u001b[0m: name 'plt' is not defined"
     ]
    }
   ],
   "source": [
    "from scipy.stats import gaussian_kde\n",
    "xy_model = np.vstack([y_test, y_pred])\n",
    "z_model = gaussian_kde(xy_model)(xy_model)\n",
    "plt.scatter(y_test, y_pred, c=z_model, s=1, cmap=\"jet\")\n",
    "plt.colorbar()\n",
    "plt.xlabel('Actual WV')\n",
    "plt.ylabel('Predicted WV')\n",
    "plt.title('Gaussian KDE Scatter Plot for DT')"
   ]
  },
  {
   "cell_type": "code",
   "execution_count": null,
   "id": "ddffbee9-f4f2-449f-a92b-73cf00d8ddf7",
   "metadata": {},
   "outputs": [],
   "source": []
  }
 ],
 "metadata": {
  "kernelspec": {
   "display_name": "Python 3 (ipykernel)",
   "language": "python",
   "name": "python3"
  },
  "language_info": {
   "codemirror_mode": {
    "name": "ipython",
    "version": 3
   },
   "file_extension": ".py",
   "mimetype": "text/x-python",
   "name": "python",
   "nbconvert_exporter": "python",
   "pygments_lexer": "ipython3",
   "version": "3.10.12"
  }
 },
 "nbformat": 4,
 "nbformat_minor": 5
}
