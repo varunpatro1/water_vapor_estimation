{
 "cells": [
  {
   "cell_type": "code",
   "execution_count": null,
   "id": "f32b604d-9fac-43c9-bb2b-1dacf62fe672",
   "metadata": {},
   "outputs": [],
   "source": []
  }
 ],
 "metadata": {
  "kernelspec": {
   "display_name": "Python 3 (ipykernel)",
   "language": "python",
   "name": "python3"
  },
  "language_info": {
   "name": ""
  }
 },
 "nbformat": 4,
 "nbformat_minor": 5
}
