{
 "cells": [
  {
   "cell_type": "code",
   "execution_count": 24,
   "id": "6279d5e4-6cd3-496b-adec-48face5b9d5d",
   "metadata": {},
   "outputs": [],
   "source": [
    "import numpy as np\n",
    "import pandas as pd"
   ]
  },
  {
   "cell_type": "code",
   "execution_count": 25,
   "id": "ad3c9211-b895-4217-889f-f91467d90144",
   "metadata": {},
   "outputs": [],
   "source": [
    "data = np.load('../train_set.npz')\n",
    "refls = data['output_rfl']\n",
    "wv = data['output_wv']\n",
    "fids = data['output_idx']\n",
    "values, counts = np.unique(fids, return_counts=True)\n",
    "scenes = np.split(refls, 946)"
   ]
  },
  {
   "cell_type": "code",
   "execution_count": 31,
   "id": "a4253d54-d6cf-4b76-a140-6ff3bbaadc33",
   "metadata": {},
   "outputs": [
    {
     "data": {
      "text/plain": [
       "(946, 1242, 285)"
      ]
     },
     "execution_count": 31,
     "metadata": {},
     "output_type": "execute_result"
    }
   ],
   "source": [
    "scenes = np.array(scenes)\n",
    "scenes.shape"
   ]
  },
  {
   "cell_type": "code",
   "execution_count": null,
   "id": "0e448601-7ceb-4432-9d86-785748e1ce07",
   "metadata": {},
   "outputs": [],
   "source": []
  }
 ],
 "metadata": {
  "kernelspec": {
   "display_name": "Python 3 (ipykernel)",
   "language": "python",
   "name": "python3"
  },
  "language_info": {
   "codemirror_mode": {
    "name": "ipython",
    "version": 3
   },
   "file_extension": ".py",
   "mimetype": "text/x-python",
   "name": "python",
   "nbconvert_exporter": "python",
   "pygments_lexer": "ipython3",
   "version": "3.10.12"
  }
 },
 "nbformat": 4,
 "nbformat_minor": 5
}
