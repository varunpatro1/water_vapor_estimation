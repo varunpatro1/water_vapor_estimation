{
 "cells": [
  {
   "cell_type": "code",
   "execution_count": 26,
   "id": "70c76691-7558-4d5a-9610-482c0c9cca32",
   "metadata": {},
   "outputs": [],
   "source": [
    "import numpy as np\n",
    "from sklearn.cluster import KMeans\n",
    "import matplotlib.pyplot as plt"
   ]
  },
  {
   "cell_type": "code",
   "execution_count": 4,
   "id": "0bc473fb-298b-4810-b183-dab7e15964ba",
   "metadata": {},
   "outputs": [
    {
     "name": "stdout",
     "output_type": "stream",
     "text": [
      "scene:  0\n"
     ]
    },
    {
     "name": "stderr",
     "output_type": "stream",
     "text": [
      "C:\\Users\\vpatro\\AppData\\Local\\anaconda3\\envs\\isofit_env\\lib\\site-packages\\spectral\\io\\envi.py:175: UserWarning: Parameters with non-lowercase names encountered and converted to lowercase. To retain source file parameter name capitalization, set spectral.settings.envi_support_nonlowercase_params to True.\n",
      "  warnings.warn(msg)\n"
     ]
    },
    {
     "name": "stdout",
     "output_type": "stream",
     "text": [
      "scene:  1\n",
      "scene:  2\n",
      "scene:  3\n",
      "scene:  4\n",
      "Executed in:  38.968324422836304  seconds\n"
     ]
    }
   ],
   "source": [
    "# order: west africa, gobi desert, west india, north africa, arabian desert\n",
    "obs_paths = ['../EMIT-scenes/west_africa_scene/emit20230321t150833_o08010_s000_l1b_obs_b0106_v01.hdr', \n",
    "             '../EMIT-scenes/gobi_desert_scene/EMIT_L1B_OBS_001_20230603T080502_2315406_055_obs.hdr', \n",
    "            '../EMIT-scenes/west_india_scene/EMIT_L1B_OBS_001_20230217T094600_2304806_029_obs.hdr', \n",
    "            '../EMIT-scenes/north_africa_scene/EMIT_L1B_OBS_001_20230214T133958_2304509_008_obs.hdr',\n",
    "            '../EMIT-scenes/arabian_desert_scene/EMIT_L1B_OBS_001_20230424T091202_2311406_031_obs.hdr']\n",
    "rad_paths = ['../EMIT-scenes/west_africa_scene/EMIT_L1B_RAD_001_20230321T150833_2308010_003_radiance.hdr', \n",
    "             '../EMIT-scenes/gobi_desert_scene/EMIT_L1B_RAD_001_20230603T080502_2315406_055_radiance.hdr', \n",
    "            '../EMIT-scenes/west_india_scene/EMIT_L1B_RAD_001_20230217T094600_2304806_029_radiance.hdr', \n",
    "            '../EMIT-scenes/north_africa_scene/EMIT_L1B_RAD_001_20230214T133958_2304509_008_radiance.hdr',\n",
    "            '../EMIT-scenes/arabian_desert_scene/EMIT_L1B_RAD_001_20230424T091202_2311406_031_radiance.hdr']\n",
    "mask_paths = ['../EMIT-scenes/west_africa_scene/EMIT_L2A_MASK_001_20230321T150833_2308010_003_mask.hdr', \n",
    "             '../EMIT-scenes/gobi_desert_scene/EMIT_L2A_MASK_001_20230603T080502_2315406_055_mask.hdr', \n",
    "            '../EMIT-scenes/west_india_scene/EMIT_L2A_MASK_001_20230217T094600_2304806_029_mask.hdr',  \n",
    "            '../EMIT-scenes/north_africa_scene/EMIT_L2A_MASK_001_20230214T133958_2304509_008_mask.hdr',\n",
    "            '../EMIT-scenes/arabian_desert_scene/EMIT_L2A_MASK_001_20230424T091202_2311406_031_mask.hdr']\n",
    "\n",
    "paths = []\n",
    "paths.append(obs_paths)\n",
    "paths.append(rad_paths)\n",
    "paths.append(mask_paths)\n",
    "\n",
    "\n",
    "west_africa_paths = []\n",
    "gobi_desert_paths = []\n",
    "west_india_paths = []\n",
    "north_africa_paths = []\n",
    "arabian_desert_paths = []\n",
    "\n",
    "scene_paths = []\n",
    "scene_paths.append(west_africa_paths)\n",
    "scene_paths.append(gobi_desert_paths)\n",
    "scene_paths.append(west_india_paths)\n",
    "scene_paths.append(north_africa_paths)\n",
    "scene_paths.append(arabian_desert_paths)\n",
    "\n",
    "\n",
    "for i in range(5):\n",
    "    for j in range(3):\n",
    "        scene_paths[i].append(paths[j][i])    \n",
    "\n",
    "import preprocess\n",
    "import time\n",
    "\n",
    "TOA_refls = []\n",
    "irr_path = '../irr.npy'\n",
    "\n",
    "start_time = time.time()\n",
    "for i in range(5):\n",
    "    print('scene: ', i)\n",
    "    TOA_refl = preprocess.convert_rad(scene_paths[i], irr_path)\n",
    "    TOA_refls.append(TOA_refl)\n",
    "    \n",
    "end_time = time.time()\n",
    "elapsed = end_time - start_time\n",
    "print('Executed in: ', elapsed, ' seconds')"
   ]
  },
  {
   "cell_type": "code",
   "execution_count": 12,
   "id": "15f2b913-83be-4650-8778-070992273417",
   "metadata": {},
   "outputs": [],
   "source": [
    "for i in range(len(TOA_refls)):\n",
    "    TOA_refls[i] = TOA_refls[i].reshape((TOA_refls[i].shape[0]*TOA_refls[i].shape[1], TOA_refls[i].shape[2]))"
   ]
  },
  {
   "cell_type": "code",
   "execution_count": 14,
   "id": "90e897ed-5dab-4d0c-8595-a44caa09479f",
   "metadata": {},
   "outputs": [],
   "source": [
    "data = np.concatenate((TOA_refls[0], TOA_refls[1], TOA_refls[2], TOA_refls[3], TOA_refls[4]))"
   ]
  },
  {
   "cell_type": "code",
   "execution_count": 15,
   "id": "3606f6c8-00fa-4429-bae6-22f150ef0ed2",
   "metadata": {},
   "outputs": [
    {
     "data": {
      "text/plain": [
       "(8068032, 285)"
      ]
     },
     "execution_count": 15,
     "metadata": {},
     "output_type": "execute_result"
    }
   ],
   "source": [
    "data.shape"
   ]
  },
  {
   "cell_type": "code",
   "execution_count": 31,
   "id": "3f28264c-6069-404f-85e0-a523c475d73e",
   "metadata": {},
   "outputs": [],
   "source": [
    "indices = np.random.randint(0, 8068032, 500000)\n",
    "data_05M = data[indices]"
   ]
  },
  {
   "cell_type": "code",
   "execution_count": 16,
   "id": "7b70eb83-76aa-4d48-a69f-f89c58e799f8",
   "metadata": {},
   "outputs": [],
   "source": [
    "indices = np.random.randint(0, 8068032, 1000000)\n",
    "data_1M = data[indices]"
   ]
  },
  {
   "cell_type": "code",
   "execution_count": 17,
   "id": "a2668e26-3598-416c-8eee-f393916ecd30",
   "metadata": {},
   "outputs": [
    {
     "data": {
      "text/plain": [
       "(8068032, 285)"
      ]
     },
     "execution_count": 17,
     "metadata": {},
     "output_type": "execute_result"
    }
   ],
   "source": [
    "data.shape"
   ]
  },
  {
   "cell_type": "code",
   "execution_count": 18,
   "id": "b0f92e0b-c388-472e-9b25-12d0025d0c24",
   "metadata": {},
   "outputs": [],
   "source": [
    "indices = np.random.randint(0, 8068032, 4000000)\n",
    "data_5M = data[indices]"
   ]
  },
  {
   "cell_type": "code",
   "execution_count": 19,
   "id": "47209f38-c3e7-4c4d-a8ff-53072ea13f11",
   "metadata": {},
   "outputs": [
    {
     "data": {
      "text/plain": [
       "(4000000, 285)"
      ]
     },
     "execution_count": 19,
     "metadata": {},
     "output_type": "execute_result"
    }
   ],
   "source": [
    "data_5M.shape"
   ]
  },
  {
   "cell_type": "code",
   "execution_count": 22,
   "id": "20cfac18-4380-4321-8b62-ab2778f90b9c",
   "metadata": {},
   "outputs": [
    {
     "name": "stderr",
     "output_type": "stream",
     "text": [
      "C:\\Users\\vpatro\\AppData\\Local\\anaconda3\\envs\\isofit_env\\lib\\site-packages\\sklearn\\cluster\\_kmeans.py:1412: FutureWarning: The default value of `n_init` will change from 10 to 'auto' in 1.4. Set the value of `n_init` explicitly to suppress the warning\n",
      "  super()._check_params_vs_input(X, default_n_init=10)\n"
     ]
    }
   ],
   "source": [
    "seed = 8\n",
    "start_time = time.time()\n",
    "kmeans_1M = KMeans(init = 'k-means++', n_clusters = 8, random_state = seed).fit(data_1M)\n",
    "end_time = time.time()\n",
    "elapsed_1M = (end_time - start_time) / 60"
   ]
  },
  {
   "cell_type": "code",
   "execution_count": 23,
   "id": "88546a41-2512-4d76-8ae9-0c18295d5927",
   "metadata": {},
   "outputs": [
    {
     "name": "stderr",
     "output_type": "stream",
     "text": [
      "C:\\Users\\vpatro\\AppData\\Local\\anaconda3\\envs\\isofit_env\\lib\\site-packages\\sklearn\\cluster\\_kmeans.py:1412: FutureWarning: The default value of `n_init` will change from 10 to 'auto' in 1.4. Set the value of `n_init` explicitly to suppress the warning\n",
      "  super()._check_params_vs_input(X, default_n_init=10)\n"
     ]
    }
   ],
   "source": [
    "seed = 8\n",
    "start_time = time.time()\n",
    "kmeans_1M = KMeans(init = 'k-means++', n_clusters = 8, random_state = seed).fit(data_5M)\n",
    "end_time = time.time()\n",
    "elapsed_4M = (end_time - start_time) / 60"
   ]
  },
  {
   "cell_type": "code",
   "execution_count": 32,
   "id": "d37a72bd-700d-49e6-805c-180341c927f4",
   "metadata": {},
   "outputs": [
    {
     "name": "stderr",
     "output_type": "stream",
     "text": [
      "C:\\Users\\vpatro\\AppData\\Local\\anaconda3\\envs\\isofit_env\\lib\\site-packages\\sklearn\\cluster\\_kmeans.py:1412: FutureWarning: The default value of `n_init` will change from 10 to 'auto' in 1.4. Set the value of `n_init` explicitly to suppress the warning\n",
      "  super()._check_params_vs_input(X, default_n_init=10)\n"
     ]
    }
   ],
   "source": [
    "seed = 8\n",
    "start_time = time.time()\n",
    "kmeans_1M = KMeans(init = 'k-means++', n_clusters = 8, random_state = seed).fit(data_05M)\n",
    "end_time = time.time()\n",
    "elapsed_05M = (end_time - start_time) / 60"
   ]
  },
  {
   "cell_type": "code",
   "execution_count": 34,
   "id": "099076a7-a614-4665-b735-c6c4d92e9284",
   "metadata": {},
   "outputs": [],
   "source": [
    "times = np.zeros(3)\n",
    "times[0] = elapsed_05M\n",
    "times[1] = elapsed_1M\n",
    "times[2] = elapsed_4M\n",
    "num_samples = np.zeros(3)\n",
    "num_samples[0] = 500000\n",
    "num_samples[1] = 1000000\n",
    "num_samples[2] = 4000000"
   ]
  },
  {
   "cell_type": "code",
   "execution_count": 38,
   "id": "2c402137-4115-4757-ae70-a3f2731cf7a0",
   "metadata": {},
   "outputs": [
    {
     "data": {
      "image/png": "[encoded data removed]",
      "text/plain": [
       "<Figure size 640x480 with 1 Axes>"
      ]
     },
     "metadata": {},
     "output_type": "display_data"
    }
   ],
   "source": [
    "%matplotlib inline\n",
    "plt.plot(num_samples[1:], times[1:], linestyle='-', marker='o')\n",
    "plt.xlabel('Number of Samples (M)')\n",
    "plt.ylabel('Time (min)')\n",
    "plt.title('Number of Spectra vs Time to Run K Means ++')\n",
    "plt.show()"
   ]
  },
  {
   "cell_type": "code",
   "execution_count": null,
   "id": "399c2c72-5f08-4893-8581-4b55c0b77bda",
   "metadata": {},
   "outputs": [],
   "source": [
    "%matplotlib inline\n",
    "plt.plot(num_samples, times, linestyle='-', marker='o')\n",
    "plt.xlabel('Number of Samples')\n",
    "plt.ylabel('Time (min)')\n",
    "plt.title('Number of Spectra vs Time to Run K Means ++')\n",
    "plt.show()"
   ]
  },
  {
   "cell_type": "code",
   "execution_count": 39,
   "id": "8c162ce8-7463-4d70-a831-dfcb7ac966dc",
   "metadata": {},
   "outputs": [
    {
     "data": {
      "text/plain": [
       "array([ 2.1201831 ,  3.21547899, 13.70897222])"
      ]
     },
     "execution_count": 39,
     "metadata": {},
     "output_type": "execute_result"
    }
   ],
   "source": [
    "times"
   ]
  },
  {
   "cell_type": "code",
   "execution_count": 78,
   "id": "b70f951f-74cc-4a8f-975a-5b7553d3a4df",
   "metadata": {},
   "outputs": [
    {
     "data": {
      "text/plain": [
       "3.497831076666667"
      ]
     },
     "execution_count": 78,
     "metadata": {},
     "output_type": "execute_result"
    }
   ],
   "source": [
    "increment = (13.70897222 - 3.21547899) / 3\n",
    "increment"
   ]
  },
  {
   "cell_type": "code",
   "execution_count": 83,
   "id": "8f84d453-5e4b-46f5-b506-cad2a94beb98",
   "metadata": {},
   "outputs": [],
   "source": [
    "times = np.zeros(30)\n",
    "num_samples = np.zeros(30)\n",
    "num_samples[0] = 1\n",
    "num_samples[1] = 4\n",
    "times[0] = elapsed_1M\n",
    "times[1] = elapsed_4M\n",
    "for i in range(28):\n",
    "    num_samples[i+2] = num_samples[i+1] + 3\n",
    "    times[i+2] = times[i+1] + (increment)# * (num_samples[i+2]/num_samples[i+1]))"
   ]
  },
  {
   "cell_type": "code",
   "execution_count": 84,
   "id": "d6bd1cdd-afb6-475e-9e87-389f5a59891d",
   "metadata": {},
   "outputs": [
    {
     "data": {
      "text/plain": [
       "array([ 1.,  4.,  7., 10., 13., 16., 19., 22., 25., 28., 31., 34., 37.,\n",
       "       40., 43., 46., 49., 52., 55., 58., 61., 64., 67., 70., 73., 76.,\n",
       "       79., 82., 85., 88.])"
      ]
     },
     "execution_count": 84,
     "metadata": {},
     "output_type": "execute_result"
    }
   ],
   "source": [
    "num_samples"
   ]
  },
  {
   "cell_type": "code",
   "execution_count": 85,
   "id": "0ef6fa17-c1f5-4f50-9d32-ed6b3606930a",
   "metadata": {},
   "outputs": [
    {
     "data": {
      "image/png": "[encoded data removed]",
      "text/plain": [
       "<Figure size 640x480 with 1 Axes>"
      ]
     },
     "metadata": {},
     "output_type": "display_data"
    }
   ],
   "source": [
    "%matplotlib inline\n",
    "plt.plot(num_samples[:10], times[:10], linestyle='-', marker='o')\n",
    "plt.xlabel('Number of Samples (M)')\n",
    "plt.ylabel('Time (min)')\n",
    "plt.title('Number of Spectra vs Time to Run K Means ++')\n",
    "plt.show()"
   ]
  },
  {
   "cell_type": "code",
   "execution_count": 48,
   "id": "ad0ac56d-70c1-48ea-bd6c-3b206d06ba42",
   "metadata": {},
   "outputs": [
    {
     "data": {
      "text/plain": [
       "array([ 3.21547899e+00,  1.37089722e+01,  9.13931481e+00,  4.56965741e+00,\n",
       "        1.77635684e-15, -4.56965741e+00, -9.13931481e+00, -1.37089722e+01,\n",
       "       -1.82786296e+01, -2.28482870e+01, -2.74179444e+01, -3.19876018e+01,\n",
       "       -3.65572593e+01, -4.11269167e+01, -4.56965741e+01, -5.02662315e+01,\n",
       "       -5.48358889e+01, -5.94055463e+01, -6.39752037e+01, -6.85448611e+01,\n",
       "       -7.31145185e+01, -7.76841759e+01, -8.22538333e+01, -8.68234907e+01,\n",
       "       -9.13931481e+01, -9.59628055e+01, -1.00532463e+02, -1.05102120e+02,\n",
       "       -1.09671778e+02, -1.14241435e+02])"
      ]
     },
     "execution_count": 48,
     "metadata": {},
     "output_type": "execute_result"
    }
   ],
   "source": [
    "times"
   ]
  },
  {
   "cell_type": "code",
   "execution_count": null,
   "id": "7ac40aec-d91a-4bd9-bfcc-da9df30d6b54",
   "metadata": {},
   "outputs": [],
   "source": []
  }
 ],
 "metadata": {
  "kernelspec": {
   "display_name": "Python 3 (ipykernel)",
   "language": "python",
   "name": "python3"
  },
  "language_info": {
   "codemirror_mode": {
    "name": "ipython",
    "version": 3
   },
   "file_extension": ".py",
   "mimetype": "text/x-python",
   "name": "python",
   "nbconvert_exporter": "python",
   "pygments_lexer": "ipython3",
   "version": "3.10.12"
  }
 },
 "nbformat": 4,
 "nbformat_minor": 5
}
