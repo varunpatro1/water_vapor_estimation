{
 "cells": [
  {
   "cell_type": "code",
   "execution_count": 26,
   "id": "70c76691-7558-4d5a-9610-482c0c9cca32",
   "metadata": {},
   "outputs": [],
   "source": [
    "import numpy as np\n",
    "from sklearn.cluster import KMeans\n",
    "import matplotlib.pyplot as plt"
   ]
  },
  {
   "cell_type": "code",
   "execution_count": 4,
   "id": "0bc473fb-298b-4810-b183-dab7e15964ba",
   "metadata": {},
   "outputs": [
    {
     "name": "stdout",
     "output_type": "stream",
     "text": [
      "scene:  0\n"
     ]
    },
    {
     "name": "stderr",
     "output_type": "stream",
     "text": [
      "C:\\Users\\vpatro\\AppData\\Local\\anaconda3\\envs\\isofit_env\\lib\\site-packages\\spectral\\io\\envi.py:175: UserWarning: Parameters with non-lowercase names encountered and converted to lowercase. To retain source file parameter name capitalization, set spectral.settings.envi_support_nonlowercase_params to True.\n",
      "  warnings.warn(msg)\n"
     ]
    },
    {
     "name": "stdout",
     "output_type": "stream",
     "text": [
      "scene:  1\n",
      "scene:  2\n",
      "scene:  3\n",
      "scene:  4\n",
      "Executed in:  38.968324422836304  seconds\n"
     ]
    }
   ],
   "source": [
    "# order: west africa, gobi desert, west india, north africa, arabian desert\n",
    "obs_paths = ['../EMIT-scenes/west_africa_scene/emit20230321t150833_o08010_s000_l1b_obs_b0106_v01.hdr', \n",
    "             '../EMIT-scenes/gobi_desert_scene/EMIT_L1B_OBS_001_20230603T080502_2315406_055_obs.hdr', \n",
    "            '../EMIT-scenes/west_india_scene/EMIT_L1B_OBS_001_20230217T094600_2304806_029_obs.hdr', \n",
    "            '../EMIT-scenes/north_africa_scene/EMIT_L1B_OBS_001_20230214T133958_2304509_008_obs.hdr',\n",
    "            '../EMIT-scenes/arabian_desert_scene/EMIT_L1B_OBS_001_20230424T091202_2311406_031_obs.hdr']\n",
    "rad_paths = ['../EMIT-scenes/west_africa_scene/EMIT_L1B_RAD_001_20230321T150833_2308010_003_radiance.hdr', \n",
    "             '../EMIT-scenes/gobi_desert_scene/EMIT_L1B_RAD_001_20230603T080502_2315406_055_radiance.hdr', \n",
    "            '../EMIT-scenes/west_india_scene/EMIT_L1B_RAD_001_20230217T094600_2304806_029_radiance.hdr', \n",
    "            '../EMIT-scenes/north_africa_scene/EMIT_L1B_RAD_001_20230214T133958_2304509_008_radiance.hdr',\n",
    "            '../EMIT-scenes/arabian_desert_scene/EMIT_L1B_RAD_001_20230424T091202_2311406_031_radiance.hdr']\n",
    "mask_paths = ['../EMIT-scenes/west_africa_scene/EMIT_L2A_MASK_001_20230321T150833_2308010_003_mask.hdr', \n",
    "             '../EMIT-scenes/gobi_desert_scene/EMIT_L2A_MASK_001_20230603T080502_2315406_055_mask.hdr', \n",
    "            '../EMIT-scenes/west_india_scene/EMIT_L2A_MASK_001_20230217T094600_2304806_029_mask.hdr',  \n",
    "            '../EMIT-scenes/north_africa_scene/EMIT_L2A_MASK_001_20230214T133958_2304509_008_mask.hdr',\n",
    "            '../EMIT-scenes/arabian_desert_scene/EMIT_L2A_MASK_001_20230424T091202_2311406_031_mask.hdr']\n",
    "\n",
    "paths = []\n",
    "paths.append(obs_paths)\n",
    "paths.append(rad_paths)\n",
    "paths.append(mask_paths)\n",
    "\n",
    "\n",
    "west_africa_paths = []\n",
    "gobi_desert_paths = []\n",
    "west_india_paths = []\n",
    "north_africa_paths = []\n",
    "arabian_desert_paths = []\n",
    "\n",
    "scene_paths = []\n",
    "scene_paths.append(west_africa_paths)\n",
    "scene_paths.append(gobi_desert_paths)\n",
    "scene_paths.append(west_india_paths)\n",
    "scene_paths.append(north_africa_paths)\n",
    "scene_paths.append(arabian_desert_paths)\n",
    "\n",
    "\n",
    "for i in range(5):\n",
    "    for j in range(3):\n",
    "        scene_paths[i].append(paths[j][i])    \n",
    "\n",
    "import preprocess\n",
    "import time\n",
    "\n",
    "TOA_refls = []\n",
    "irr_path = '../irr.npy'\n",
    "\n",
    "start_time = time.time()\n",
    "for i in range(5):\n",
    "    print('scene: ', i)\n",
    "    TOA_refl = preprocess.convert_rad(scene_paths[i], irr_path)\n",
    "    TOA_refls.append(TOA_refl)\n",
    "    \n",
    "end_time = time.time()\n",
    "elapsed = end_time - start_time\n",
    "print('Executed in: ', elapsed, ' seconds')"
   ]
  },
  {
   "cell_type": "code",
   "execution_count": 12,
   "id": "15f2b913-83be-4650-8778-070992273417",
   "metadata": {},
   "outputs": [],
   "source": [
    "for i in range(len(TOA_refls)):\n",
    "    TOA_refls[i] = TOA_refls[i].reshape((TOA_refls[i].shape[0]*TOA_refls[i].shape[1], TOA_refls[i].shape[2]))"
   ]
  },
  {
   "cell_type": "code",
   "execution_count": 14,
   "id": "90e897ed-5dab-4d0c-8595-a44caa09479f",
   "metadata": {},
   "outputs": [],
   "source": [
    "data = np.concatenate((TOA_refls[0], TOA_refls[1], TOA_refls[2], TOA_refls[3], TOA_refls[4]))"
   ]
  },
  {
   "cell_type": "code",
   "execution_count": 15,
   "id": "3606f6c8-00fa-4429-bae6-22f150ef0ed2",
   "metadata": {},
   "outputs": [
    {
     "data": {
      "text/plain": [
       "(8068032, 285)"
      ]
     },
     "execution_count": 15,
     "metadata": {},
     "output_type": "execute_result"
    }
   ],
   "source": [
    "data.shape"
   ]
  },
  {
   "cell_type": "code",
   "execution_count": 31,
   "id": "3f28264c-6069-404f-85e0-a523c475d73e",
   "metadata": {},
   "outputs": [],
   "source": [
    "indices = np.random.randint(0, 8068032, 500000)\n",
    "data_05M = data[indices]"
   ]
  },
  {
   "cell_type": "code",
   "execution_count": 16,
   "id": "7b70eb83-76aa-4d48-a69f-f89c58e799f8",
   "metadata": {},
   "outputs": [],
   "source": [
    "indices = np.random.randint(0, 8068032, 1000000)\n",
    "data_1M = data[indices]"
   ]
  },
  {
   "cell_type": "code",
   "execution_count": 17,
   "id": "a2668e26-3598-416c-8eee-f393916ecd30",
   "metadata": {},
   "outputs": [
    {
     "data": {
      "text/plain": [
       "(8068032, 285)"
      ]
     },
     "execution_count": 17,
     "metadata": {},
     "output_type": "execute_result"
    }
   ],
   "source": [
    "data.shape"
   ]
  },
  {
   "cell_type": "code",
   "execution_count": 18,
   "id": "b0f92e0b-c388-472e-9b25-12d0025d0c24",
   "metadata": {},
   "outputs": [],
   "source": [
    "indices = np.random.randint(0, 8068032, 4000000)\n",
    "data_5M = data[indices]"
   ]
  },
  {
   "cell_type": "code",
   "execution_count": 19,
   "id": "47209f38-c3e7-4c4d-a8ff-53072ea13f11",
   "metadata": {},
   "outputs": [
    {
     "data": {
      "text/plain": [
       "(4000000, 285)"
      ]
     },
     "execution_count": 19,
     "metadata": {},
     "output_type": "execute_result"
    }
   ],
   "source": [
    "data_5M.shape"
   ]
  },
  {
   "cell_type": "code",
   "execution_count": 22,
   "id": "20cfac18-4380-4321-8b62-ab2778f90b9c",
   "metadata": {},
   "outputs": [
    {
     "name": "stderr",
     "output_type": "stream",
     "text": [
      "C:\\Users\\vpatro\\AppData\\Local\\anaconda3\\envs\\isofit_env\\lib\\site-packages\\sklearn\\cluster\\_kmeans.py:1412: FutureWarning: The default value of `n_init` will change from 10 to 'auto' in 1.4. Set the value of `n_init` explicitly to suppress the warning\n",
      "  super()._check_params_vs_input(X, default_n_init=10)\n"
     ]
    }
   ],
   "source": [
    "seed = 8\n",
    "start_time = time.time()\n",
    "kmeans_1M = KMeans(init = 'k-means++', n_clusters = 8, random_state = seed).fit(data_1M)\n",
    "end_time = time.time()\n",
    "elapsed_1M = (end_time - start_time) / 60"
   ]
  },
  {
   "cell_type": "code",
   "execution_count": 23,
   "id": "88546a41-2512-4d76-8ae9-0c18295d5927",
   "metadata": {},
   "outputs": [
    {
     "name": "stderr",
     "output_type": "stream",
     "text": [
      "C:\\Users\\vpatro\\AppData\\Local\\anaconda3\\envs\\isofit_env\\lib\\site-packages\\sklearn\\cluster\\_kmeans.py:1412: FutureWarning: The default value of `n_init` will change from 10 to 'auto' in 1.4. Set the value of `n_init` explicitly to suppress the warning\n",
      "  super()._check_params_vs_input(X, default_n_init=10)\n"
     ]
    }
   ],
   "source": [
    "seed = 8\n",
    "start_time = time.time()\n",
    "kmeans_1M = KMeans(init = 'k-means++', n_clusters = 8, random_state = seed).fit(data_5M)\n",
    "end_time = time.time()\n",
    "elapsed_4M = (end_time - start_time) / 60"
   ]
  },
  {
   "cell_type": "code",
   "execution_count": 32,
   "id": "d37a72bd-700d-49e6-805c-180341c927f4",
   "metadata": {},
   "outputs": [
    {
     "name": "stderr",
     "output_type": "stream",
     "text": [
      "C:\\Users\\vpatro\\AppData\\Local\\anaconda3\\envs\\isofit_env\\lib\\site-packages\\sklearn\\cluster\\_kmeans.py:1412: FutureWarning: The default value of `n_init` will change from 10 to 'auto' in 1.4. Set the value of `n_init` explicitly to suppress the warning\n",
      "  super()._check_params_vs_input(X, default_n_init=10)\n"
     ]
    }
   ],
   "source": [
    "seed = 8\n",
    "start_time = time.time()\n",
    "kmeans_1M = KMeans(init = 'k-means++', n_clusters = 8, random_state = seed).fit(data_05M)\n",
    "end_time = time.time()\n",
    "elapsed_05M = (end_time - start_time) / 60"
   ]
  },
  {
   "cell_type": "code",
   "execution_count": 34,
   "id": "099076a7-a614-4665-b735-c6c4d92e9284",
   "metadata": {},
   "outputs": [],
   "source": [
    "times = np.zeros(3)\n",
    "times[0] = elapsed_05M\n",
    "times[1] = elapsed_1M\n",
    "times[2] = elapsed_4M\n",
    "num_samples = np.zeros(3)\n",
    "num_samples[0] = 500000\n",
    "num_samples[1] = 1000000\n",
    "num_samples[2] = 4000000"
   ]
  },
  {
   "cell_type": "code",
   "execution_count": 35,
   "id": "2c402137-4115-4757-ae70-a3f2731cf7a0",
   "metadata": {},
   "outputs": [
    {
     "data": {
      "image/png": "[encoded data removed]",
      "text/plain": [
       "<Figure size 640x480 with 1 Axes>"
      ]
     },
     "metadata": {},
     "output_type": "display_data"
    }
   ],
   "source": [
    "%matplotlib inline\n",
    "plt.plot(num_samples, times, linestyle='-', marker='o')\n",
    "plt.xlabel('Number of Samples')\n",
    "plt.ylabel('Time (min)')\n",
    "plt.title('Number of Spectra vs Time to Run K Means ++')\n",
    "plt.show()"
   ]
  },
  {
   "cell_type": "code",
   "execution_count": null,
   "id": "399c2c72-5f08-4893-8581-4b55c0b77bda",
   "metadata": {},
   "outputs": [],
   "source": []
  }
 ],
 "metadata": {
  "kernelspec": {
   "display_name": "Python 3 (ipykernel)",
   "language": "python",
   "name": "python3"
  },
  "language_info": {
   "codemirror_mode": {
    "name": "ipython",
    "version": 3
   },
   "file_extension": ".py",
   "mimetype": "text/x-python",
   "name": "python",
   "nbconvert_exporter": "python",
   "pygments_lexer": "ipython3",
   "version": "3.10.12"
  }
 },
 "nbformat": 4,
 "nbformat_minor": 5
}
