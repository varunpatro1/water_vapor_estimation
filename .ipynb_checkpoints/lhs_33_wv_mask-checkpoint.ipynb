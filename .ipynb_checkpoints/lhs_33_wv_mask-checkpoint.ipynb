{
 "cells": [
  {
   "cell_type": "code",
   "execution_count": 1,
   "id": "a53a82bf-88f5-4ab0-9552-ed2d6c823752",
   "metadata": {},
   "outputs": [],
   "source": [
    "import os\n",
    "import sys\n",
    "import numpy as np\n",
    "import analysis.disp_h2o_data\n",
    "import itertools\n",
    "import matplotlib.pyplot as plt"
   ]
  },
  {
   "cell_type": "code",
   "execution_count": 3,
   "id": "2df5eafc-af58-4c6e-8ada-98192e81cf45",
   "metadata": {},
   "outputs": [
    {
     "name": "stdout",
     "output_type": "stream",
     "text": [
      "30\n",
      "30\n"
     ]
    }
   ],
   "source": [
    "pred = []\n",
    "test = []\n",
    "\n",
    "dir = os.listdir('../predicted_wv_masks/lhs_sza_elev_33/predicted_wv_masks')\n",
    "dir_path = '../predicted_wv_masks/lhs_sza_elev_33/predicted_wv_masks'\n",
    "\n",
    "for file_name in dir:\n",
    "    if file_name.startswith('actual'):\n",
    "        test.append(f'{dir_path}/{file_name}')\n",
    "    if file_name.startswith('all'):\n",
    "        pred.append(f'{dir_path}/{file_name}')\n",
    "\n",
    "#print(test)\n",
    "#print(len(test))\n",
    "#print(test)\n",
    "#print(len(test))\n",
    "#print(pred)\n",
    "#print(len(pred))\n",
    "\n",
    "for i in range(len(pred)):\n",
    "    pred_data = np.load(pred[i])\n",
    "    pred_data = pred_data.reshape((1280, 1242))\n",
    "    pred[i] = pred_data\n",
    "\n",
    "    test_data = np.load(test[i])\n",
    "    test_data = test_data.reshape((1280, 1242))\n",
    "    test[i] = test_data\n",
    "\n",
    "print(len(test))\n",
    "print(len(pred))\n",
    "\n",
    "#print([(i.shape, j.shape) for (i, j) in zip(test, pred)])"
   ]
  },
  {
   "cell_type": "code",
   "execution_count": null,
   "id": "1cf6cd83-c988-44c7-8b2d-e7dfbb39ebf1",
   "metadata": {},
   "outputs": [],
   "source": []
  }
 ],
 "metadata": {
  "kernelspec": {
   "display_name": "Python 3 (ipykernel)",
   "language": "python",
   "name": "python3"
  },
  "language_info": {
   "codemirror_mode": {
    "name": "ipython",
    "version": 3
   },
   "file_extension": ".py",
   "mimetype": "text/x-python",
   "name": "python",
   "nbconvert_exporter": "python",
   "pygments_lexer": "ipython3",
   "version": "3.10.12"
  }
 },
 "nbformat": 4,
 "nbformat_minor": 5
}
