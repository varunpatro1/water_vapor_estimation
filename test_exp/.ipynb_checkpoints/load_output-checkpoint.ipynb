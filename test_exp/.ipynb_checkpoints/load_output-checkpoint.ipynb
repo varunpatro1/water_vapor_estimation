{
 "cells": [
  {
   "cell_type": "code",
   "execution_count": 1,
   "id": "7dd418da-a0fa-4665-bd48-1f9756f10670",
   "metadata": {},
   "outputs": [],
   "source": [
    "import numpy as np"
   ]
  },
  {
   "cell_type": "code",
   "execution_count": 19,
   "id": "04531de3-1477-49cb-b7e6-d53dfdca0f50",
   "metadata": {},
   "outputs": [],
   "source": [
    "data = np.load('munged.npy.npz')"
   ]
  },
  {
   "cell_type": "code",
   "execution_count": 22,
   "id": "ebb8b4e1-f710-45d3-8236-79df2698c214",
   "metadata": {},
   "outputs": [
    {
     "name": "stdout",
     "output_type": "stream",
     "text": [
      "output_rfl\n",
      "[[0.15604483 0.14729504 0.13675882 ... 0.00625211 0.00280186 0.00076063]\n",
      " [0.16380462 0.15465124 0.14304265 ... 0.00520157 0.00171606 0.00091974]\n",
      " [0.16272633 0.15375729 0.14243665 ... 0.00478358 0.00148331 0.00095383]\n",
      " ...\n",
      " [0.1730771  0.16296801 0.15344223 ... 0.08317467 0.03568128 0.02234171]\n",
      " [0.16971041 0.15838021 0.14950973 ... 0.07854392 0.03286929 0.02226168]\n",
      " [0.17089832 0.15950367 0.15127327 ... 0.08271692 0.03492089 0.02047596]]\n",
      "output_wv\n",
      "[1.3337307  1.33441377 1.33562875 ... 0.40169749 0.40694392 0.40985647]\n",
      "output_idx\n",
      "[0 0 0 ... 7 7 7]\n"
     ]
    }
   ],
   "source": [
    "for key in data.keys():\n",
    "    print(key)                        # x\n",
    "    print(data[key]) "
   ]
  },
  {
   "cell_type": "code",
   "execution_count": 26,
   "id": "a611f6d7-9e4d-4f78-9ee7-4f495c764414",
   "metadata": {},
   "outputs": [],
   "source": [
    "refls = data['output_rfl']\n",
    "wv = data['output_wv']\n",
    "fids = data['output_idx']"
   ]
  },
  {
   "cell_type": "code",
   "execution_count": 27,
   "id": "61b8355a-f3fb-4aad-9123-967fd3a8ba9e",
   "metadata": {},
   "outputs": [
    {
     "data": {
      "text/plain": [
       "(9936,)"
      ]
     },
     "execution_count": 27,
     "metadata": {},
     "output_type": "execute_result"
    }
   ],
   "source": [
    "fids.shape"
   ]
  },
  {
   "cell_type": "code",
   "execution_count": null,
   "id": "24879b72-1a2e-4efc-8a05-3c7cf8ed5aee",
   "metadata": {},
   "outputs": [],
   "source": []
  }
 ],
 "metadata": {
  "kernelspec": {
   "display_name": "Python 3 (ipykernel)",
   "language": "python",
   "name": "python3"
  },
  "language_info": {
   "codemirror_mode": {
    "name": "ipython",
    "version": 3
   },
   "file_extension": ".py",
   "mimetype": "text/x-python",
   "name": "python",
   "nbconvert_exporter": "python",
   "pygments_lexer": "ipython3",
   "version": "3.10.12"
  }
 },
 "nbformat": 4,
 "nbformat_minor": 5
}
