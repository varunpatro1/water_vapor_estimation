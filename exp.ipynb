{
 "cells": [
  {
   "cell_type": "code",
   "execution_count": 9,
   "id": "0572db88-c819-4154-9ff8-dfee53cecc0d",
   "metadata": {},
   "outputs": [
    {
     "name": "stdout",
     "output_type": "stream",
     "text": [
      "scene:  10\n",
      "scene:  20\n",
      "scene:  30\n",
      "scene:  40\n",
      "scene:  50\n",
      "scene:  60\n",
      "scene:  70\n",
      "scene:  80\n",
      "scene:  90\n",
      "scene:  100\n",
      "done\n",
      "90\n"
     ]
    }
   ],
   "source": [
    "import numpy as np\n",
    "arr = np.arange(1,100)\n",
    "count = 0\n",
    "for i in range(100):\n",
    "    if (i+1) % 10 == 0:\n",
    "        print('scene: ', i+1)\n",
    "    else:\n",
    "        count += 1\n",
    "print(\"done\")\n",
    "print(count)"
   ]
  },
  {
   "cell_type": "code",
   "execution_count": null,
   "id": "9f27dad6-742b-4f53-aae0-0fa92f1297d3",
   "metadata": {},
   "outputs": [],
   "source": []
  }
 ],
 "metadata": {
  "kernelspec": {
   "display_name": "Python 3 (ipykernel)",
   "language": "python",
   "name": "python3"
  },
  "language_info": {
   "codemirror_mode": {
    "name": "ipython",
    "version": 3
   },
   "file_extension": ".py",
   "mimetype": "text/x-python",
   "name": "python",
   "nbconvert_exporter": "python",
   "pygments_lexer": "ipython3",
   "version": "3.10.12"
  }
 },
 "nbformat": 4,
 "nbformat_minor": 5
}
