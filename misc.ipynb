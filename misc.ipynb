{
 "cells": [
  {
   "cell_type": "code",
   "execution_count": 1,
   "id": "f32b604d-9fac-43c9-bb2b-1dacf62fe672",
   "metadata": {},
   "outputs": [],
   "source": [
    "def get_dt():\n",
    "    flight_name = rad_header.metadata['flight_line'][0]\n",
    "    \n",
    "    year = flight_name[4:8]\n",
    "    month = flight_name[8:10]\n",
    "    date = flight_name[10:12]\n",
    "    hour = flight_name[13:15]\n",
    "    minute = flight_name[15:17]\n",
    "    second = flight_name[17:19]\n",
    "\n",
    "    dt_string = ''\n",
    "    dt_string = dt_string + date + '/' + month + '/' + year + ' ' + hour + ':' + minute + ':' + second\n",
    "\n",
    "    dt = datetime.strptime(dt_string, \"%d/%m/%Y %H:%M:%S\")"
   ]
  },
  {
   "cell_type": "code",
   "execution_count": null,
   "id": "f3cdf236-2ff2-4beb-9911-ef3355281ccb",
   "metadata": {},
   "outputs": [],
   "source": []
  }
 ],
 "metadata": {
  "kernelspec": {
   "display_name": "Python 3 (ipykernel)",
   "language": "python",
   "name": "python3"
  },
  "language_info": {
   "codemirror_mode": {
    "name": "ipython",
    "version": 3
   },
   "file_extension": ".py",
   "mimetype": "text/x-python",
   "name": "python",
   "nbconvert_exporter": "python",
   "pygments_lexer": "ipython3",
   "version": "3.10.12"
  }
 },
 "nbformat": 4,
 "nbformat_minor": 5
}
