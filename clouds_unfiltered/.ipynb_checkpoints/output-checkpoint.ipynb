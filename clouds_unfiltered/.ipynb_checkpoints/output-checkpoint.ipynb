{
 "cells": [
  {
   "cell_type": "code",
   "execution_count": 38,
   "id": "6279d5e4-6cd3-496b-adec-48face5b9d5d",
   "metadata": {},
   "outputs": [],
   "source": [
    "import numpy as np\n",
    "import pandas as pd\n",
    "from sklearn.model_selection import train_test_split"
   ]
  },
  {
   "cell_type": "code",
   "execution_count": 39,
   "id": "ad3c9211-b895-4217-889f-f91467d90144",
   "metadata": {},
   "outputs": [
    {
     "name": "stdout",
     "output_type": "stream",
     "text": [
      "(946, 1242, 285)\n",
      "(946, 1242)\n"
     ]
    }
   ],
   "source": [
    "data = np.load('../train_set.npz')\n",
    "refls = data['output_rfl']\n",
    "wv = data['output_wv']\n",
    "fids = data['output_idx']\n",
    "\n",
    "values, counts = np.unique(fids, return_counts=True)\n",
    "scenes = np.split(refls, 946)\n",
    "wv_by_scene = np.split(wv, 946)\n",
    "scenes = np.array(scenes)\n",
    "wv_by_scene = np.array(wv_by_scene)\n",
    "\n",
    "print(scenes.shape)\n",
    "print(wv_by_scene.shape)"
   ]
  },
  {
   "cell_type": "code",
   "execution_count": 49,
   "id": "7ae54664-1c0a-4036-ab0e-118bc7ee8543",
   "metadata": {},
   "outputs": [
    {
     "name": "stdout",
     "output_type": "stream",
     "text": [
      "X train shape:  (662, 1242, 285)\n",
      "y train shape:  (662, 1242)\n",
      "X test shape:  (284, 1242, 285)\n",
      "y test shape:  (284, 1242)\n"
     ]
    }
   ],
   "source": [
    "X_idx, y_idx = np.arange(scenes.shape[0]), np.arange(scenes.shape[0])\n",
    "X_train_idx, X_test_idx, y_train_idx, y_test_idx = train_test_split(X_idx, y_idx, test_size = 0.3, random_state = 50)\n",
    "\n",
    "X_train = scenes[X_train_idx, :, :]\n",
    "X_test = scenes[X_test_idx, :, :]\n",
    "y_train = wv_by_scene[y_train_idx, :]\n",
    "y_test = wv_by_scene[y_test_idx, :]\n",
    "\n",
    "print('X train shape: ', X_train.shape)\n",
    "print('y train shape: ', y_train.shape)\n",
    "print('X test shape: ', X_test.shape)\n",
    "print('y test shape: ', y_test.shape)"
   ]
  },
  {
   "cell_type": "code",
   "execution_count": null,
   "id": "8cbc80b3-47c7-40d8-baf5-94d908ee9362",
   "metadata": {},
   "outputs": [],
   "source": []
  },
  {
   "cell_type": "code",
   "execution_count": 50,
   "id": "b7147246-fee0-4091-80d9-d4a1aa941433",
   "metadata": {},
   "outputs": [
    {
     "name": "stdout",
     "output_type": "stream",
     "text": [
      "(946, 1242, 285)\n",
      "(946, 1242)\n"
     ]
    }
   ],
   "source": [
    "data = np.load('../train_set.npz')\n",
    "refls = data['output_rfl']\n",
    "wv = data['output_wv']\n",
    "fids = data['output_idx']\n",
    "\n",
    "values, counts = np.unique(fids, return_counts=True)\n",
    "scenes = np.split(refls, 946)\n",
    "wv_by_scene = np.split(wv, 946)\n",
    "scenes = np.array(scenes)\n",
    "wv_by_scene = np.array(wv_by_scene)\n",
    "\n",
    "print(scenes.shape)\n",
    "print(wv_by_scene.shape)"
   ]
  },
  {
   "cell_type": "code",
   "execution_count": 52,
   "id": "5df15e70-66a7-4dfa-80fc-632a9154bfbf",
   "metadata": {},
   "outputs": [
    {
     "name": "stdout",
     "output_type": "stream",
     "text": [
      "X train:  [2 4 1 5 3 9 0]\n",
      "y train:  [2 4 1 5 3 9 0]\n",
      "X test:  [7 8 6]\n",
      "y test :  [7 8 6]\n"
     ]
    }
   ],
   "source": [
    "X_idx, y_idx = np.arange(10), np.arange(10)\n",
    "X_train_idx, X_test_idx, y_train_idx, y_test_idx = train_test_split(X_idx, y_idx, test_size = 0.3, random_state = 50)\n",
    "\n",
    "X_train = scenes[X_train_idx, :, :]\n",
    "X_test = scenes[X_test_idx, :, :]\n",
    "y_train = wv_by_scene[y_train_idx, :]\n",
    "y_test = wv_by_scene[y_test_idx, :]\n",
    "\n",
    "print('X train: ', X_train_idx)\n",
    "print('y train: ', y_train_idx)\n",
    "print('X test: ', X_test_idx)\n",
    "print('y test : ', y_test_idx)"
   ]
  },
  {
   "cell_type": "code",
   "execution_count": null,
   "id": "038813c6-672c-45b0-8b72-1e3e1304ff44",
   "metadata": {},
   "outputs": [],
   "source": []
  }
 ],
 "metadata": {
  "kernelspec": {
   "display_name": "Python 3 (ipykernel)",
   "language": "python",
   "name": "python3"
  },
  "language_info": {
   "codemirror_mode": {
    "name": "ipython",
    "version": 3
   },
   "file_extension": ".py",
   "mimetype": "text/x-python",
   "name": "python",
   "nbconvert_exporter": "python",
   "pygments_lexer": "ipython3",
   "version": "3.10.12"
  }
 },
 "nbformat": 4,
 "nbformat_minor": 5
}
