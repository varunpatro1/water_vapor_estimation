{
 "cells": [
  {
   "cell_type": "code",
   "execution_count": 1,
   "id": "3fee03f4-7840-4f6b-95b0-ee8d13731bd8",
   "metadata": {},
   "outputs": [
    {
     "name": "stderr",
     "output_type": "stream",
     "text": [
      "C:\\Users\\vpatro\\AppData\\Local\\anaconda3\\envs\\isofit_env\\lib\\site-packages\\tqdm\\auto.py:21: TqdmWarning: IProgress not found. Please update jupyter and ipywidgets. See https://ipywidgets.readthedocs.io/en/stable/user_install.html\n",
      "  from .autonotebook import tqdm as notebook_tqdm\n"
     ]
    }
   ],
   "source": [
    "import netCDF4 as nc\n",
    "from geoarray import GeoArray\n",
    "from spectral.io import envi\n",
    "import matplotlib.pyplot as plt\n",
    "import numpy as np\n",
    "from isofit.core.common import resample_spectrum\n",
    "import os\n",
    "import isofit\n",
    "from isofit.core.sunposition import sunpos\n",
    "import matplotlib\n",
    "import tkinter\n",
    "matplotlib.use('TkAgg')"
   ]
  },
  {
   "cell_type": "code",
   "execution_count": 2,
   "id": "f2be1c4a-fc3a-4336-a6c9-d8c4a8c71d06",
   "metadata": {},
   "outputs": [],
   "source": [
    "# relevant wavelenghts for water vapor: 900-1050 (begin with first feature)\n",
    "# second: 1100-1300\n",
    "\n",
    "# trainining split: speak to Jake and Michael\n",
    "\n",
    "# ideas from Niklas: start with linear regression, lasso regression, maybe perceptron, polynomial regression\n",
    "# take TOA reflectance and do PCA -- project those onto water vapor analysis space\n",
    "\n",
    "# image segmenetation: principle component space"
   ]
  },
  {
   "cell_type": "code",
   "execution_count": 3,
   "id": "40c0e75c-893b-4d1f-b352-a66585ed9561",
   "metadata": {},
   "outputs": [],
   "source": [
    "rad = '../west_africa_scene/EMIT_L1B_RAD_001_20230321T150833_2308010_003.nc'\n",
    "ds_rad = nc.Dataset(rad)\n",
    "mask = '../west_africa_scene/EMIT_L2A_MASK_001_20230321T150833_2308010_003.nc'\n",
    "ds_mask = nc.Dataset(mask)"
   ]
  },
  {
   "cell_type": "code",
   "execution_count": 4,
   "id": "ac3e3dc4-6834-43f0-8a72-abe6f86dbfb0",
   "metadata": {},
   "outputs": [],
   "source": [
    "#ds_rad"
   ]
  },
  {
   "cell_type": "code",
   "execution_count": 5,
   "id": "b68a3add-f0f5-431c-a68e-6ff526698306",
   "metadata": {},
   "outputs": [],
   "source": [
    "# rho = (((rdn * np.pi) / (irr.T)).T / np.cos(zen)).T"
   ]
  },
  {
   "cell_type": "code",
   "execution_count": 6,
   "id": "60ac9ccc-2ee0-4c75-9452-767d200c53c1",
   "metadata": {},
   "outputs": [],
   "source": [
    "#west_africa_coast = GeoArray(r'C:\\\\Users\\\\vpatro\\\\Desktop\\\\west_africa_scene\\\\EMIT_L1B_RAD_001_20230321T150833_2308010_003_radiance')"
   ]
  },
  {
   "cell_type": "code",
   "execution_count": 7,
   "id": "b9f95836-1da0-4c56-8836-fd09fb158bda",
   "metadata": {},
   "outputs": [
    {
     "name": "stderr",
     "output_type": "stream",
     "text": [
      "C:\\Users\\vpatro\\AppData\\Local\\anaconda3\\envs\\isofit_env\\lib\\site-packages\\spectral\\io\\envi.py:175: UserWarning: Parameters with non-lowercase names encountered and converted to lowercase. To retain source file parameter name capitalization, set spectral.settings.envi_support_nonlowercase_params to True.\n",
      "  warnings.warn(msg)\n"
     ]
    },
    {
     "name": "stdout",
     "output_type": "stream",
     "text": [
      "<class 'spectral.io.bilfile.BilFile'>\n"
     ]
    },
    {
     "data": {
      "text/plain": [
       "<matplotlib.image.AxesImage at 0x1a8082dc3a0>"
      ]
     },
     "execution_count": 7,
     "metadata": {},
     "output_type": "execute_result"
    }
   ],
   "source": [
    "refl_header = envi.open('../west_africa_scene/EMIT_L2A_RFL_001_20230321T150833_2308010_003_reflectance.hdr')\n",
    "print(type(refl_header))\n",
    "#print(ds.metadata)\n",
    "dat_refl = refl_header.open_memmap(interleave='bip')\n",
    "\n",
    "# plot an RGB from reflectance data\n",
    "plt.imshow(dat_refl[:,:,np.array([30,21,12])])"
   ]
  },
  {
   "cell_type": "code",
   "execution_count": 8,
   "id": "2ac142bf-6a49-455f-b8c9-5bd3e464d14c",
   "metadata": {},
   "outputs": [
    {
     "data": {
      "text/plain": [
       "(1888, 1912, 8)"
      ]
     },
     "execution_count": 8,
     "metadata": {},
     "output_type": "execute_result"
    }
   ],
   "source": [
    "# using spectral library\n",
    "mask_header = envi.open('../west_africa_scene/EMIT_L2A_MASK_001_20230321T150833_2308010_003_mask.hdr')\n",
    "dat_mask = mask_header.open_memmap(interleave='bip')\n",
    "dat_mask.shape"
   ]
  },
  {
   "cell_type": "code",
   "execution_count": null,
   "id": "df099ac7-20c9-4757-ac59-de6de1da4a6d",
   "metadata": {},
   "outputs": [],
   "source": [
    "plt.imshow(dat_mask[:,:,6])\n",
    "plt.colorbar()\n",
    "plt.title(\"Atmospheric Water Vapor Levels (g/cm^2)\")\n",
    "plt.show()"
   ]
  },
  {
   "cell_type": "code",
   "execution_count": 12,
   "id": "163edf9b-197d-4f57-87fd-894b44a82344",
   "metadata": {},
   "outputs": [],
   "source": [
    "plt.hist(dat_mask[:,:,6].flatten())\n",
    "plt.show()"
   ]
  },
  {
   "cell_type": "code",
   "execution_count": 11,
   "id": "398a495f-5aa5-4d5e-9e3e-23dc4c0fb950",
   "metadata": {},
   "outputs": [],
   "source": [
    "#mask_header.metadata"
   ]
  },
  {
   "cell_type": "code",
   "execution_count": 13,
   "id": "6bc6a17c-3439-4858-b702-7035b4199ff0",
   "metadata": {},
   "outputs": [
    {
     "name": "stdout",
     "output_type": "stream",
     "text": [
      "<class 'spectral.io.bilfile.BilFile'>\n"
     ]
    }
   ],
   "source": [
    "rad_header = envi.open('../west_africa_scene/EMIT_L1B_RAD_001_20230321T150833_2308010_003_radiance.hdr')\n",
    "print(type(rad_header))\n",
    "#print(ds.metadata)\n",
    "dat_rad = rad_header.open_memmap(interleave='bip')"
   ]
  },
  {
   "cell_type": "code",
   "execution_count": 17,
   "id": "74965db7-49e5-4f34-89fc-70ac0bec1b38",
   "metadata": {},
   "outputs": [
    {
     "data": {
      "text/plain": [
       "Text(0.5, 0, 'Band Number')"
      ]
     },
     "execution_count": 17,
     "metadata": {},
     "output_type": "execute_result"
    }
   ],
   "source": [
    "plt.plot(dat_rad[750,750,:])\n",
    "plt.title('Radiance Spectra')\n",
    "plt.xlabel('Band Number')"
   ]
  },
  {
   "cell_type": "code",
   "execution_count": 90,
   "id": "2dd42b2d-a504-4b61-8d38-a5e5f7256cc9",
   "metadata": {},
   "outputs": [],
   "source": [
    "# rho = (((rdn * np.pi) / (irr.T)).T / np.cos(zen)).T\n",
    "\n",
    "# zen should be one number (set Rad = True)\n",
    "# irr should be an array with dimension equal to rdn"
   ]
  },
  {
   "cell_type": "code",
   "execution_count": 106,
   "id": "1ba53a6e-9112-4990-b45e-867b86ac7e2d",
   "metadata": {},
   "outputs": [
    {
     "data": {
      "text/plain": [
       "{'ncei_template_version': 'NCEI_NetCDF_Swath_Template_v2.0',\n",
       " 'summary': \"The Earth Surface Mineral Dust Source Investigation (EMIT) is an Earth Ventures-Instrument (EVI-4) Mission that maps the surface mineralogy of arid dust source regions via imaging spectroscopy in the visible and short-wave infrared (VSWIR). Installed on the International Space Station (ISS), the EMIT instrument is a Dyson imaging spectrometer that uses contiguous spectroscopic measurements from 410 to 2450 nm to resolve absoprtion features of iron oxides, clays, sulfates, carbonates, and other dust-forming minerals. During its one-year mission, EMIT will observe the sunlit Earth's dust source regions that occur within +/-52° latitude and produce maps of the source regions that can be used to improve forecasts of the role of mineral dust in the radiative forcing (warming or cooling) of the atmosphere.\\\\n\\\\nThis file contains L1B at-sensor calibrated radiances. The radiance calibration occurs in two basic stages: 1) transforming raw digital numbers into radiance units using a calibrated radiometric response and correcting for electronic artifacts, and 2) a correction for instrument optical effects which results in an absolute spectral wavelength calibration. The radiance file contains radiance for each of 285 channels in units of microwatts per centimeter per centimeter squared per steradian. Geolocation data (latitude, longitude, height) and a lookup table to project the data are also included.\",\n",
       " 'keywords': 'Imaging Spectroscopy, minerals, EMIT, dust, radiative forcing',\n",
       " 'Conventions': 'CF-1.63',\n",
       " 'sensor': 'EMIT (Earth Surface Mineral Dust Source Investigation)',\n",
       " 'instrument': 'EMIT',\n",
       " 'platform': 'ISS',\n",
       " 'institution': 'NASA Jet Propulsion Laboratory/California Institute of Technology',\n",
       " 'license': 'https://science.nasa.gov/earth-science/earth-science-data/data-information-policy/',\n",
       " 'naming_authority': 'LPDAAC',\n",
       " 'date_created': '2023-03-22T13:31:42Z',\n",
       " 'keywords_vocabulary': 'NASA Global Change Master Directory (GCMD) Science Keywords',\n",
       " 'stdname_vocabulary': 'NetCDF Climate and Forecast (CF) Metadata Convention',\n",
       " 'creator_name': 'Jet Propulsion Laboratory/California Institute of Technology',\n",
       " 'creator_url': 'https://earth.jpl.nasa.gov/emit/',\n",
       " 'project': 'Earth Surface Mineral Dust Source Investigation',\n",
       " 'project_url': 'https://emit.jpl.nasa.gov/',\n",
       " 'publisher_name': 'NASA LPDAAC',\n",
       " 'publisher_url': 'https://lpdaac.usgs.gov',\n",
       " 'publisher_email': 'lpdaac@usgs.gov',\n",
       " 'identifier_product_doi_authority': 'https://doi.org',\n",
       " 'flight_line': 'emit20230321t150833_o08010_s000',\n",
       " 'time_coverage_start': '2023-03-21T15:08:33+0000',\n",
       " 'time_coverage_end': '2023-03-21T15:08:45+0000',\n",
       " 'software_build_version': '010610',\n",
       " 'software_delivery_version': '010610',\n",
       " 'product_version': 'V001',\n",
       " 'history': 'PGE Run Command: {python /beegfs/store/emit/ops/repos/emit-sds-l1b/emitrdn.py --mode default --level INFO --log_file /tmp/emit/ops/emit20230321t150833_emit.L1BCalibrate_20230322t075048/output/emit20230321t150833_o08010_s000_l1b_rdn_b0106_v01_pge.log /beegfs/store/emit/ops/data/acquisitions/20230321/emit20230321t150833/l1a/emit20230321t150833_o08010_s000_l1a_raw_b0106_v01.img /beegfs/store/emit/ops/data/acquisitions/20230321/emit20230321t154506/l1a/emit20230321t154506_o08010_s001_l1a_raw_b0106_v01.img /tmp/emit/ops/emit20230321t150833_emit.L1BCalibrate_20230322t075048/l1b_config.json /tmp/emit/ops/emit20230321t150833_emit.L1BCalibrate_20230322t075048/output/emit20230321t150833_o08010_s000_l1b_rdn_b0106_v01.img /tmp/emit/ops/emit20230321t150833_emit.L1BCalibrate_20230322t075048/output/emit20230321t150833_o08010_s000_l1b_bandmask_b0106_v01.img;python /beegfs/store/emit/ops/repos/emit-sds-l1b/utils/fitflatfield.py /tmp/emit/ops/emit20230321t150833_emit.L1BCalibrate_20230322t075048/output/emit20230321t150833_o08010_s000_l1b_rdn_b0106_v01.img /tmp/emit/ops/emit20230321t150833_emit.L1BCalibrate_20230322t075048/output/emit20230321t150833_o08010_s000_l1b_rdn_destripe_b0106_v01.img /tmp/emit/ops/emit20230321t150833_emit.L1BCalibrate_20230322t075048/output/emit20230321t150833_o08010_s000_l1b_destripeff_b0106_v01.img /tmp/emit/ops/emit20230321t150833_emit.L1BCalibrate_20230322t075048/output/emit20230321t150833_o08010_s000_l1b_destripedark_b0106_v01.img}, PGE Input Files: {srf_correction_file=/beegfs/store/emit/ops/repos/emit-sds-l1b/data/emit/EMIT_SpectralScatter_20220406, crf_correction_file=/beegfs/store/emit/ops/repos/emit-sds-l1b/data/emit/EMIT_SpatialScatter_20220406, bad_element_file=/beegfs/store/emit/ops/repos/emit-sds-l1b/data/emit/EMIT_BadElements_20220307, spectral_calibration_file=/beegfs/store/emit/ops/repos/emit-sds-l1b/data/emit/EMIT_Wavelengths_20220817.txt, ghost_map_file=/beegfs/store/emit/ops/repos/emit-sds-l1b/data/emit/EMIT_GhostMap_20220424.json, linearity_file=/beegfs/store/emit/ops/repos/emit-sds-l1b/data/emit/EMIT_LinearityBasis_20220504, linearity_map_file=/beegfs/store/emit/ops/repos/emit-sds-l1b/data/emit/EMIT_LinearityMap_20220504, flat_field_file=/beegfs/store/emit/ops/repos/emit-sds-l1b/data/emit/EMIT_FlatField_20220825, radiometric_coefficient_file=/beegfs/store/emit/ops/repos/emit-sds-l1b/data/emit/EMIT_RadiometricCoeffs_20230119.txt, dark_file=/beegfs/store/emit/ops/data/acquisitions/20230321/emit20230321t154506/l1a/emit20230321t154506_o08010_s001_l1a_raw_b0106_v01.img}',\n",
       " 'crosstrack_orientation': 'as seen on ground',\n",
       " 'easternmost_longitude': 1.3921769094975656,\n",
       " 'northernmost_latitude': 6.40940686783284,\n",
       " 'westernmost_longitude': 0.355428330767392,\n",
       " 'southernmost_latitude': 5.385671869588819,\n",
       " 'spatialResolution': 0.000542232520256367,\n",
       " 'spatial_ref': 'GEOGCS[\"WGS 84\",DATUM[\"WGS_1984\",SPHEROID[\"WGS 84\",6378137,298.257223563,AUTHORITY[\"EPSG\",\"7030\"]],AUTHORITY[\"EPSG\",\"6326\"]],PRIMEM[\"Greenwich\",0,AUTHORITY[\"EPSG\",\"8901\"]],UNIT[\"degree\",0.0174532925199433,AUTHORITY[\"EPSG\",\"9122\"]],AXIS[\"Latitude\",NORTH],AXIS[\"Longitude\",EAST],AUTHORITY[\"EPSG\",\"4326\"]]',\n",
       " 'geotransform': array([ 3.55428331e-01,  5.42232520e-04, -0.00000000e+00,  6.40940687e+00,\n",
       "        -0.00000000e+00, -5.42232520e-04]),\n",
       " 'day_night_flag': 'Day',\n",
       " 'title': 'EMIT L1B At-Sensor Calibrated Radiance Data 60 m V001'}"
      ]
     },
     "execution_count": 106,
     "metadata": {},
     "output_type": "execute_result"
    }
   ],
   "source": [
    "type(ds_rad)\n",
    "ds_rad.__dict__"
   ]
  },
  {
   "cell_type": "code",
   "execution_count": 107,
   "id": "f4942f3e-f224-4ce1-8be5-a344378867f3",
   "metadata": {
    "scrolled": true
   },
   "outputs": [
    {
     "data": {
      "text/plain": [
       "dict_keys(['ncei_template_version', 'summary', 'keywords', 'Conventions', 'sensor', 'instrument', 'platform', 'institution', 'license', 'naming_authority', 'date_created', 'keywords_vocabulary', 'stdname_vocabulary', 'creator_name', 'creator_url', 'project', 'project_url', 'publisher_name', 'publisher_url', 'publisher_email', 'identifier_product_doi_authority', 'flight_line', 'time_coverage_start', 'time_coverage_end', 'software_build_version', 'software_delivery_version', 'product_version', 'history', 'crosstrack_orientation', 'easternmost_longitude', 'northernmost_latitude', 'westernmost_longitude', 'southernmost_latitude', 'spatialResolution', 'spatial_ref', 'geotransform', 'day_night_flag', 'title'])"
      ]
     },
     "execution_count": 107,
     "metadata": {},
     "output_type": "execute_result"
    }
   ],
   "source": [
    "ds_rad.__dict__.keys()"
   ]
  },
  {
   "cell_type": "code",
   "execution_count": 109,
   "id": "263d63f0-5049-44f5-85d2-8799df721e52",
   "metadata": {},
   "outputs": [
    {
     "data": {
      "text/plain": [
       "0.000542232520256367"
      ]
     },
     "execution_count": 109,
     "metadata": {},
     "output_type": "execute_result"
    }
   ],
   "source": [
    "ds_rad.__dict__['spatialResolution']"
   ]
  },
  {
   "cell_type": "code",
   "execution_count": null,
   "id": "e949caf7-b097-4fe9-8ee7-827d853648d5",
   "metadata": {},
   "outputs": [],
   "source": [
    "# what is irradiance - understood\n",
    "# use load_wavelength to get wl and fwhm but need file paths and need to extract out info from netCDF structure\n",
    "\n",
    "\n",
    "# early thoughts on ML"
   ]
  }
 ],
 "metadata": {
  "kernelspec": {
   "display_name": "Python 3 (ipykernel)",
   "language": "python",
   "name": "python3"
  },
  "language_info": {
   "codemirror_mode": {
    "name": "ipython",
    "version": 3
   },
   "file_extension": ".py",
   "mimetype": "text/x-python",
   "name": "python",
   "nbconvert_exporter": "python",
   "pygments_lexer": "ipython3",
   "version": "3.10.12"
  }
 },
 "nbformat": 4,
 "nbformat_minor": 5
}
