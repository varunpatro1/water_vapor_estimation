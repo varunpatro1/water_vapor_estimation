{
 "cells": [
  {
   "cell_type": "code",
   "execution_count": 40,
   "id": "5eeadb99-43df-46a1-8abc-f63d93c844cf",
   "metadata": {},
   "outputs": [],
   "source": [
    "import numpy as np\n",
    "import pandas as pd\n",
    "from sklearn.tree import DecisionTreeClassifier\n",
    "from sklearn.tree import export_text\n",
    "from sklearn.model_selection import train_test_split\n",
    "from spectral.io import envi\n",
    "from sklearn import tree\n"
   ]
  },
  {
   "cell_type": "code",
   "execution_count": 6,
   "id": "289e63b9-ae40-4762-97e1-0ba0145512e7",
   "metadata": {},
   "outputs": [
    {
     "name": "stdout",
     "output_type": "stream",
     "text": [
      "(718, 1242, 40)\n",
      "(718, 1242)\n"
     ]
    }
   ],
   "source": [
    "\n",
    "data = np.load('../train_no_clouds.npz')\n",
    "refls = data['output_rfl']\n",
    "wv = data['output_wv']\n",
    "fids = data['output_idx']\n",
    "#fid_number = data['output_fid']\n",
    "\n",
    "values_idx, counts_idx = np.unique(fids, return_counts=True)\n",
    "#indexes = np.unique(fid_number, return_index=True)[1]\n",
    "#fids = np.array([fid_number[index] for index in sorted(indexes)])\n",
    "\n",
    "scenes = np.split(refls, 743)\n",
    "wv_by_scene = np.split(wv, 743)\n",
    "scenes = np.array(scenes)\n",
    "wv_by_scene = np.array(wv_by_scene)\n",
    "\n",
    "scenes = scenes[:,:,60:100]\n",
    "\n",
    "\n",
    "bad = []\n",
    "for i in range(wv_by_scene.shape[0]):\n",
    "    scene = wv_by_scene[i].copy()\n",
    "    if scene[np.where((scene > 6) | (scene < 0))].shape[0] != 0:\n",
    "        bad.append(i)\n",
    "\n",
    "wv_by_scene = np.delete(wv_by_scene, bad, axis = 0)\n",
    "scenes = np.delete(scenes, bad, axis = 0)\n",
    "print(scenes.shape)\n",
    "print(wv_by_scene.shape)"
   ]
  },
  {
   "cell_type": "code",
   "execution_count": 68,
   "id": "37d1d319-9bdf-4330-9c5f-bf13a5e33df0",
   "metadata": {},
   "outputs": [
    {
     "name": "stderr",
     "output_type": "stream",
     "text": [
      "C:\\Users\\vpatro\\AppData\\Local\\anaconda3\\envs\\isofit_env\\lib\\site-packages\\spectral\\io\\envi.py:175: UserWarning: Parameters with non-lowercase names encountered and converted to lowercase. To retain source file parameter name capitalization, set spectral.settings.envi_support_nonlowercase_params to True.\n",
      "  warnings.warn(msg)\n"
     ]
    },
    {
     "name": "stdout",
     "output_type": "stream",
     "text": [
      "(574, 1242, 40) (144, 1242, 40) (574, 1242) (144, 1242)\n",
      "(712908, 40) (178848, 40) (712908,) (178848,)\n"
     ]
    }
   ],
   "source": [
    "rad_header = envi.open('../EMIT-scenes/west_africa_scene/EMIT_L1B_RAD_001_20230321T150833_2308010_003_radiance.hdr')\n",
    "rad_header = envi.open('../EMIT-scenes/west_africa_scene/EMIT_L1B_RAD_001_20230321T150833_2308010_003_radiance.hdr')\n",
    "wl = rad_header.metadata['wavelength']\n",
    "band_number = np.arange(60,100)\n",
    "feature_names = [f'Band {i+1}: {j} nm' for i,j in zip(band_number, wl)]\n",
    "\n",
    "X_train, X_test, y_train, y_test = train_test_split(scenes, wv_by_scene, test_size = 0.2, random_state = 50)\n",
    "print(X_train.shape, X_test.shape, y_train.shape, y_test.shape)\n",
    "X_train = X_train.reshape((X_train.shape[0]*X_train.shape[1], X_train.shape[2]))\n",
    "X_test = X_test.reshape((X_test.shape[0]*X_test.shape[1], X_test.shape[2]))\n",
    "y_train = y_train.flatten()\n",
    "y_test = y_test.flatten()\n",
    "print(X_train.shape, X_test.shape, y_train.shape, y_test.shape)"
   ]
  },
  {
   "cell_type": "code",
   "execution_count": 130,
   "id": "f7cdb6fb-12c5-4c07-85e0-4cfd3eb16187",
   "metadata": {},
   "outputs": [],
   "source": [
    "wl = rad_header.metadata['wavelength']\n",
    "band_number = np.arange(285)\n",
    "feature_names = [f'Band {i+1}: {j} nm' for i,j in zip(band_number, wl)]"
   ]
  },
  {
   "cell_type": "code",
   "execution_count": 133,
   "id": "479a54d5-027f-40fa-943e-b33bb6c967c8",
   "metadata": {},
   "outputs": [
    {
     "data": {
      "text/plain": [
       "820.2846"
      ]
     },
     "execution_count": 133,
     "metadata": {},
     "output_type": "execute_result"
    }
   ],
   "source": [
    "wl = np.loadtxt('../wavelength.txt').tolist()\n",
    "wl[59]"
   ]
  },
  {
   "cell_type": "code",
   "execution_count": 105,
   "id": "9e5cacb2-d3a2-4660-b8d1-96cd9ea73bda",
   "metadata": {},
   "outputs": [],
   "source": [
    "wl = rad_header.metadata['wavelength'][60:100]\n",
    "band_number = np.arange(60,100)\n",
    "feature_names = [f'Band {i}: {j} nm' for i,j in zip(band_number, wl)]"
   ]
  },
  {
   "cell_type": "code",
   "execution_count": null,
   "id": "dd23575b-3704-4322-8412-cae98a9b1908",
   "metadata": {},
   "outputs": [],
   "source": [
    "# from sklearn.tree import DecisionTreeRegressor\n",
    "from sklearn.tree import export_text\n",
    "\n",
    "\n",
    "dt = DecisionTreeRegressor(random_state = 0)\n",
    "dt.fit(X_train, y_train)\n",
    "y_pred = dt.predict(X_test)\n",
    "\n",
    "\n"
   ]
  },
  {
   "cell_type": "code",
   "execution_count": 114,
   "id": "d06d44a3-e3c4-4864-aa24-c9ed271ad4ae",
   "metadata": {},
   "outputs": [
    {
     "name": "stdout",
     "output_type": "stream",
     "text": [
      "<class 'str'>\n"
     ]
    },
    {
     "data": {
      "text/plain": [
       "str"
      ]
     },
     "execution_count": 114,
     "metadata": {},
     "output_type": "execute_result"
    }
   ],
   "source": [
    "text_representation = tree.export_text(dt, feature_names = feature_names)\n",
    "print(type(text_representation))\n"
   ]
  },
  {
   "cell_type": "code",
   "execution_count": 60,
   "id": "1037bd53-2c05-49ed-80aa-02da6552670e",
   "metadata": {},
   "outputs": [],
   "source": [
    "def get_rules(tree, feature_names, class_names):\n",
    "    tree_ = tree.tree_\n",
    "    feature_name = [\n",
    "        feature_names[i] if i != tree_.TREE_UNDEFINED else \"undefined!\"\n",
    "        for i in tree_.feature\n",
    "    ]\n",
    "\n",
    "    paths = []\n",
    "    path = []\n",
    "    \n",
    "    def recurse(node, path, paths):\n",
    "        \n",
    "        if tree_.feature[node] != _tree.TREE_UNDEFINED:\n",
    "            name = feature_name[node]\n",
    "            threshold = tree_.threshold[node]\n",
    "            p1, p2 = list(path), list(path)\n",
    "            p1 += [f\"({name} <= {np.round(threshold, 3)})\"]\n",
    "            recurse(tree_.children_left[node], p1, paths)\n",
    "            p2 += [f\"({name} > {np.round(threshold, 3)})\"]\n",
    "            recurse(tree_.children_right[node], p2, paths)\n",
    "        else:\n",
    "            path += [(tree_.value[node], tree_.n_node_samples[node])]\n",
    "            paths += [path]\n",
    "            \n",
    "    recurse(0, path, paths)\n",
    "\n",
    "    # sort by samples count\n",
    "    samples_count = [p[-1][1] for p in paths]\n",
    "    ii = list(np.argsort(samples_count))\n",
    "    paths = [paths[i] for i in reversed(ii)]\n",
    "    \n",
    "    rules = []\n",
    "    for path in paths:\n",
    "        rule = \"if \"\n",
    "        \n",
    "        for p in path[:-1]:\n",
    "            if rule != \"if \":\n",
    "                rule += \" and \"\n",
    "            rule += str(p)\n",
    "        rule += \" then \"\n",
    "        if class_names is None:\n",
    "            rule += \"response: \"+str(np.round(path[-1][0][0][0],3))\n",
    "        else:\n",
    "            classes = path[-1][0][0]\n",
    "            l = np.argmax(classes)\n",
    "            rule += f\"class: {class_names[l]} (proba: {np.round(100.0*classes[l]/np.sum(classes),2)}%)\"\n",
    "        rule += f\" | based on {path[-1][1]:,} samples\"\n",
    "        rules += [rule]\n",
    "        \n",
    "    return rules"
   ]
  },
  {
   "cell_type": "code",
   "execution_count": 116,
   "id": "24cfa8aa-a845-475a-a0f9-6ef8d87923ce",
   "metadata": {},
   "outputs": [
    {
     "data": {
      "text/plain": [
       "list"
      ]
     },
     "execution_count": 116,
     "metadata": {},
     "output_type": "execute_result"
    }
   ],
   "source": [
    "most_features_frame = pd.DataFrame(\n",
    "    data = dt.feature_importances_,\n",
    "    columns= ['importance'],\n",
    "    index = np.arange(40),\n",
    ").sort_values(by=[\"importance\"], ascending=False)\n",
    "\n",
    "# print(most_features_frame)\n",
    "feature_order = most_features_frame.index\n",
    "top_feature_list = [i for i in feature_order]\n",
    "type(np.array(feature_names)[np.array(top_feature_list)].tolist())"
   ]
  },
  {
   "cell_type": "code",
   "execution_count": 125,
   "id": "02e3d5c3-f084-49ee-99dd-595fdb1225e3",
   "metadata": {},
   "outputs": [],
   "source": [
    "features = np.array(feature_names)[np.array(top_feature_list)]\n",
    "importances = -np.sort(-dt.feature_importances_)\n",
    "\n",
    "dat = np.array([features, importances])\n",
    "\n",
    "dat = dat.T\n",
    "\n",
    "np.savetxt('../test.txt', dat, fmt=\"%s\", delimiter = ', Importance: ')"
   ]
  },
  {
   "cell_type": "code",
   "execution_count": 77,
   "id": "d791924e-e8fc-45b0-b6d9-26c0ecfc76d5",
   "metadata": {},
   "outputs": [
    {
     "data": {
      "text/plain": [
       "Index([39, 6, 16, 15, 30], dtype='int32')"
      ]
     },
     "execution_count": 77,
     "metadata": {},
     "output_type": "execute_result"
    }
   ],
   "source": [
    "most_features_frame.index[:5]"
   ]
  },
  {
   "cell_type": "code",
   "execution_count": 75,
   "id": "c472de6d-82bf-42f2-aea1-ef746d8660df",
   "metadata": {},
   "outputs": [
    {
     "data": {
      "text/plain": [
       "Index([39, 6, 16, 15, 30], dtype='int32')"
      ]
     },
     "execution_count": 75,
     "metadata": {},
     "output_type": "execute_result"
    }
   ],
   "source": [
    "top_5_feature"
   ]
  },
  {
   "cell_type": "code",
   "execution_count": 78,
   "id": "8f0a30c4-0300-4b66-aaf5-9ce21b4b1403",
   "metadata": {},
   "outputs": [
    {
     "name": "stdout",
     "output_type": "stream",
     "text": [
      "['Band 100: 671.09753 nm', 'Band 67: 425.47214 nm', 'Band 77: 499.77142 nm', 'Band 76: 492.33292 nm', 'Band 91: 604.0098 nm', 'Band 92: 611.4622 nm', 'Band 78: 507.2099 nm', 'Band 66: 418.0536 nm', 'Band 90: 596.55835 nm', 'Band 99: 663.6411 nm']\n"
     ]
    }
   ],
   "source": [
    "top_10_features = most_features_frame.index[:10]\n",
    "feature_list = [i for i in top_10_features]\n",
    "print(np.array(feature_names)[np.array(feature_list)].tolist())"
   ]
  },
  {
   "cell_type": "code",
   "execution_count": 79,
   "id": "b2202fd2-0acc-4518-a600-813f1e522ed2",
   "metadata": {},
   "outputs": [
    {
     "name": "stdout",
     "output_type": "stream",
     "text": [
      "['Band 100: 671.09753 nm', 'Band 67: 425.47214 nm', 'Band 77: 499.77142 nm', 'Band 76: 492.33292 nm', 'Band 91: 604.0098 nm']\n"
     ]
    }
   ],
   "source": [
    "top_5_feature = most_features_frame.index[:5]\n",
    "top_5_feature_list = [i for i in top_5_feature]\n",
    "print(np.array(feature_names)[np.array(top_5_feature_list)].tolist())"
   ]
  },
  {
   "cell_type": "code",
   "execution_count": 88,
   "id": "971dcd7c-e862-4454-8c08-de8aaf462a57",
   "metadata": {},
   "outputs": [
    {
     "name": "stdout",
     "output_type": "stream",
     "text": [
      "[0.410319650175523, 0.11923490920742193, 0.0759141154514439, 0.06482371185012689, 0.05623415760519173, 0.05276441400883038, 0.01923693208940236, 0.017782301116688937, 0.014948937679537993, 0.014038495502869335]\n"
     ]
    }
   ],
   "source": [
    "top_10_feat_vals = most_features_frame['importance'][:10]\n",
    "print(top_10_feat_vals.tolist())"
   ]
  },
  {
   "cell_type": "code",
   "execution_count": 85,
   "id": "d69751b3-c4fa-4009-912c-29b0beeada40",
   "metadata": {},
   "outputs": [
    {
     "data": {
      "text/html": [
       "<div>\n",
       "<style scoped>\n",
       "    .dataframe tbody tr th:only-of-type {\n",
       "        vertical-align: middle;\n",
       "    }\n",
       "\n",
       "    .dataframe tbody tr th {\n",
       "        vertical-align: top;\n",
       "    }\n",
       "\n",
       "    .dataframe thead th {\n",
       "        text-align: right;\n",
       "    }\n",
       "</style>\n",
       "<table border=\"1\" class=\"dataframe\">\n",
       "  <thead>\n",
       "    <tr style=\"text-align: right;\">\n",
       "      <th></th>\n",
       "      <th>importance</th>\n",
       "    </tr>\n",
       "  </thead>\n",
       "  <tbody>\n",
       "    <tr>\n",
       "      <th>39</th>\n",
       "      <td>0.410320</td>\n",
       "    </tr>\n",
       "    <tr>\n",
       "      <th>6</th>\n",
       "      <td>0.119235</td>\n",
       "    </tr>\n",
       "    <tr>\n",
       "      <th>16</th>\n",
       "      <td>0.075914</td>\n",
       "    </tr>\n",
       "    <tr>\n",
       "      <th>15</th>\n",
       "      <td>0.064824</td>\n",
       "    </tr>\n",
       "    <tr>\n",
       "      <th>30</th>\n",
       "      <td>0.056234</td>\n",
       "    </tr>\n",
       "    <tr>\n",
       "      <th>31</th>\n",
       "      <td>0.052764</td>\n",
       "    </tr>\n",
       "    <tr>\n",
       "      <th>17</th>\n",
       "      <td>0.019237</td>\n",
       "    </tr>\n",
       "    <tr>\n",
       "      <th>5</th>\n",
       "      <td>0.017782</td>\n",
       "    </tr>\n",
       "    <tr>\n",
       "      <th>29</th>\n",
       "      <td>0.014949</td>\n",
       "    </tr>\n",
       "    <tr>\n",
       "      <th>38</th>\n",
       "      <td>0.014038</td>\n",
       "    </tr>\n",
       "    <tr>\n",
       "      <th>32</th>\n",
       "      <td>0.011131</td>\n",
       "    </tr>\n",
       "    <tr>\n",
       "      <th>37</th>\n",
       "      <td>0.009909</td>\n",
       "    </tr>\n",
       "    <tr>\n",
       "      <th>28</th>\n",
       "      <td>0.009895</td>\n",
       "    </tr>\n",
       "    <tr>\n",
       "      <th>14</th>\n",
       "      <td>0.009093</td>\n",
       "    </tr>\n",
       "    <tr>\n",
       "      <th>0</th>\n",
       "      <td>0.008561</td>\n",
       "    </tr>\n",
       "    <tr>\n",
       "      <th>18</th>\n",
       "      <td>0.006806</td>\n",
       "    </tr>\n",
       "    <tr>\n",
       "      <th>3</th>\n",
       "      <td>0.006720</td>\n",
       "    </tr>\n",
       "    <tr>\n",
       "      <th>36</th>\n",
       "      <td>0.006514</td>\n",
       "    </tr>\n",
       "    <tr>\n",
       "      <th>23</th>\n",
       "      <td>0.006166</td>\n",
       "    </tr>\n",
       "    <tr>\n",
       "      <th>33</th>\n",
       "      <td>0.005916</td>\n",
       "    </tr>\n",
       "    <tr>\n",
       "      <th>12</th>\n",
       "      <td>0.005906</td>\n",
       "    </tr>\n",
       "    <tr>\n",
       "      <th>35</th>\n",
       "      <td>0.005118</td>\n",
       "    </tr>\n",
       "    <tr>\n",
       "      <th>24</th>\n",
       "      <td>0.004657</td>\n",
       "    </tr>\n",
       "    <tr>\n",
       "      <th>7</th>\n",
       "      <td>0.004584</td>\n",
       "    </tr>\n",
       "    <tr>\n",
       "      <th>13</th>\n",
       "      <td>0.004425</td>\n",
       "    </tr>\n",
       "    <tr>\n",
       "      <th>20</th>\n",
       "      <td>0.004355</td>\n",
       "    </tr>\n",
       "    <tr>\n",
       "      <th>19</th>\n",
       "      <td>0.004300</td>\n",
       "    </tr>\n",
       "    <tr>\n",
       "      <th>1</th>\n",
       "      <td>0.004240</td>\n",
       "    </tr>\n",
       "    <tr>\n",
       "      <th>2</th>\n",
       "      <td>0.003849</td>\n",
       "    </tr>\n",
       "    <tr>\n",
       "      <th>8</th>\n",
       "      <td>0.003800</td>\n",
       "    </tr>\n",
       "    <tr>\n",
       "      <th>22</th>\n",
       "      <td>0.003484</td>\n",
       "    </tr>\n",
       "    <tr>\n",
       "      <th>34</th>\n",
       "      <td>0.003345</td>\n",
       "    </tr>\n",
       "    <tr>\n",
       "      <th>4</th>\n",
       "      <td>0.003168</td>\n",
       "    </tr>\n",
       "    <tr>\n",
       "      <th>21</th>\n",
       "      <td>0.003071</td>\n",
       "    </tr>\n",
       "    <tr>\n",
       "      <th>27</th>\n",
       "      <td>0.003019</td>\n",
       "    </tr>\n",
       "    <tr>\n",
       "      <th>10</th>\n",
       "      <td>0.002736</td>\n",
       "    </tr>\n",
       "    <tr>\n",
       "      <th>25</th>\n",
       "      <td>0.002721</td>\n",
       "    </tr>\n",
       "    <tr>\n",
       "      <th>11</th>\n",
       "      <td>0.002640</td>\n",
       "    </tr>\n",
       "    <tr>\n",
       "      <th>9</th>\n",
       "      <td>0.002486</td>\n",
       "    </tr>\n",
       "    <tr>\n",
       "      <th>26</th>\n",
       "      <td>0.002088</td>\n",
       "    </tr>\n",
       "  </tbody>\n",
       "</table>\n",
       "</div>"
      ],
      "text/plain": [
       "    importance\n",
       "39    0.410320\n",
       "6     0.119235\n",
       "16    0.075914\n",
       "15    0.064824\n",
       "30    0.056234\n",
       "31    0.052764\n",
       "17    0.019237\n",
       "5     0.017782\n",
       "29    0.014949\n",
       "38    0.014038\n",
       "32    0.011131\n",
       "37    0.009909\n",
       "28    0.009895\n",
       "14    0.009093\n",
       "0     0.008561\n",
       "18    0.006806\n",
       "3     0.006720\n",
       "36    0.006514\n",
       "23    0.006166\n",
       "33    0.005916\n",
       "12    0.005906\n",
       "35    0.005118\n",
       "24    0.004657\n",
       "7     0.004584\n",
       "13    0.004425\n",
       "20    0.004355\n",
       "19    0.004300\n",
       "1     0.004240\n",
       "2     0.003849\n",
       "8     0.003800\n",
       "22    0.003484\n",
       "34    0.003345\n",
       "4     0.003168\n",
       "21    0.003071\n",
       "27    0.003019\n",
       "10    0.002736\n",
       "25    0.002721\n",
       "11    0.002640\n",
       "9     0.002486\n",
       "26    0.002088"
      ]
     },
     "execution_count": 85,
     "metadata": {},
     "output_type": "execute_result"
    }
   ],
   "source": [
    "most_features_frame = pd.DataFrame(\n",
    "    data = dt.feature_importances_,\n",
    "    columns= ['importance'],\n",
    "    index = np.arange(40),\n",
    ").sort_values(by=[\"importance\"], ascending=False)\n",
    "\n",
    "# print(most_features_frame)\n",
    "top_5_feature = most_features_frame.index[:5]\n",
    "top_5_feature_list = [i for i in top_5_feature]\n",
    "print(np.array(feature_names)[np.array(top_5_feature_list)].tolist())"
   ]
  },
  {
   "cell_type": "code",
   "execution_count": null,
   "id": "6dcd1fdf-1774-45a2-b9d3-4cdac17fffb5",
   "metadata": {},
   "outputs": [],
   "source": []
  }
 ],
 "metadata": {
  "kernelspec": {
   "display_name": "Python 3 (ipykernel)",
   "language": "python",
   "name": "python3"
  },
  "language_info": {
   "codemirror_mode": {
    "name": "ipython",
    "version": 3
   },
   "file_extension": ".py",
   "mimetype": "text/x-python",
   "name": "python",
   "nbconvert_exporter": "python",
   "pygments_lexer": "ipython3",
   "version": "3.10.12"
  }
 },
 "nbformat": 4,
 "nbformat_minor": 5
}
